{
 "cells": [
  {
   "cell_type": "code",
   "execution_count": 144,
   "metadata": {},
   "outputs": [],
   "source": [
    "import os.path\n",
    "import numpy as np\n",
    "import re\n",
    "import pandas as pd\n",
    "import matplotlib.pyplot as plt\n",
    "\n",
    "import gensim \n",
    "from gensim.models import LdaModel\n",
    "from gensim.models.wrappers import LdaMallet\n",
    "\n",
    "import gensim.corpora as corpora\n",
    "from gensim.corpora import Dictionary\n",
    "\n",
    "from gensim import matutils, models\n",
    "\n",
    "import pyLDAvis.gensim\n",
    "import string\n",
    "from multiprocessing import  Pool\n",
    "import time\n",
    "pd.set_option('display.max_colwidth', 100)\n",
    "from pandarallel import pandarallel\n",
    "%matplotlib inline"
   ]
  },
  {
   "cell_type": "markdown",
   "metadata": {},
   "source": [
    "## Topic modeling with LDA <a name=\"lda\"></a>\n",
    "\n",
    " We will explore the topics in `scikit-learn`'s [20 newsgroups text dataset](https://scikit-learn.org/0.19/datasets/twenty_newsgroups.html) using [`gensim`'s `ldamodel`](https://radimrehurek.com/gensim/models/ldamodel.html). Usually, topic modeling is used for discovering the abstract \"topics\" that occur in a collection of documents when you do not know the actual topics present in the documents. But since 20 newsgroups text dataset is labeled with categories (e.g., sports, hardware, religion), you will be able to cross-check the topics discovered by your model with the actual topics. "
   ]
  },
  {
   "cell_type": "markdown",
   "metadata": {},
   "source": [
    "Let's load the data and examine the first few rows. Note that we won't be violating the golden rule by looking at the training subset; later we will be using a separate test subset to evaluate the model. \n",
    "\n",
    "Load the train and test portion of the data and convert the train portion into a pandas DataFrame. Note that we are using train and test splits so that we can later examine how well the LDA model we learn is able to assign topics to unseen documents. "
   ]
  },
  {
   "cell_type": "code",
   "execution_count": 2,
   "metadata": {},
   "outputs": [],
   "source": [
    "### BEGIN STARTER CODE\n",
    "from sklearn.datasets import fetch_20newsgroups\n",
    "newsgroups_train = fetch_20newsgroups(subset='train')\n",
    "newsgroups_test = fetch_20newsgroups(subset='test')\n",
    "### END STARTER CODE"
   ]
  },
  {
   "cell_type": "code",
   "execution_count": 189,
   "metadata": {},
   "outputs": [
    {
     "data": {
      "text/html": [
       "<div>\n",
       "<style scoped>\n",
       "    .dataframe tbody tr th:only-of-type {\n",
       "        vertical-align: middle;\n",
       "    }\n",
       "\n",
       "    .dataframe tbody tr th {\n",
       "        vertical-align: top;\n",
       "    }\n",
       "\n",
       "    .dataframe thead th {\n",
       "        text-align: right;\n",
       "    }\n",
       "</style>\n",
       "<table border=\"1\" class=\"dataframe\">\n",
       "  <thead>\n",
       "    <tr style=\"text-align: right;\">\n",
       "      <th></th>\n",
       "      <th>text</th>\n",
       "      <th>target_name</th>\n",
       "      <th>target</th>\n",
       "    </tr>\n",
       "  </thead>\n",
       "  <tbody>\n",
       "    <tr>\n",
       "      <th>0</th>\n",
       "      <td>From: lerxst@wam.umd.edu (where's my thing)\\nSubject: WHAT car is this!?\\nNntp-Posting-Host: rac...</td>\n",
       "      <td>rec.autos</td>\n",
       "      <td>7</td>\n",
       "    </tr>\n",
       "    <tr>\n",
       "      <th>1</th>\n",
       "      <td>From: guykuo@carson.u.washington.edu (Guy Kuo)\\nSubject: SI Clock Poll - Final Call\\nSummary: Fi...</td>\n",
       "      <td>comp.sys.mac.hardware</td>\n",
       "      <td>4</td>\n",
       "    </tr>\n",
       "    <tr>\n",
       "      <th>2</th>\n",
       "      <td>From: twillis@ec.ecn.purdue.edu (Thomas E Willis)\\nSubject: PB questions...\\nOrganization: Purdu...</td>\n",
       "      <td>comp.sys.mac.hardware</td>\n",
       "      <td>4</td>\n",
       "    </tr>\n",
       "    <tr>\n",
       "      <th>3</th>\n",
       "      <td>From: jgreen@amber (Joe Green)\\nSubject: Re: Weitek P9000 ?\\nOrganization: Harris Computer Syste...</td>\n",
       "      <td>comp.graphics</td>\n",
       "      <td>1</td>\n",
       "    </tr>\n",
       "    <tr>\n",
       "      <th>4</th>\n",
       "      <td>From: jcm@head-cfa.harvard.edu (Jonathan McDowell)\\nSubject: Re: Shuttle Launch Question\\nOrgani...</td>\n",
       "      <td>sci.space</td>\n",
       "      <td>14</td>\n",
       "    </tr>\n",
       "  </tbody>\n",
       "</table>\n",
       "</div>"
      ],
      "text/plain": [
       "                                                                                                  text  \\\n",
       "0  From: lerxst@wam.umd.edu (where's my thing)\\nSubject: WHAT car is this!?\\nNntp-Posting-Host: rac...   \n",
       "1  From: guykuo@carson.u.washington.edu (Guy Kuo)\\nSubject: SI Clock Poll - Final Call\\nSummary: Fi...   \n",
       "2  From: twillis@ec.ecn.purdue.edu (Thomas E Willis)\\nSubject: PB questions...\\nOrganization: Purdu...   \n",
       "3  From: jgreen@amber (Joe Green)\\nSubject: Re: Weitek P9000 ?\\nOrganization: Harris Computer Syste...   \n",
       "4  From: jcm@head-cfa.harvard.edu (Jonathan McDowell)\\nSubject: Re: Shuttle Launch Question\\nOrgani...   \n",
       "\n",
       "             target_name  target  \n",
       "0              rec.autos       7  \n",
       "1  comp.sys.mac.hardware       4  \n",
       "2  comp.sys.mac.hardware       4  \n",
       "3          comp.graphics       1  \n",
       "4              sci.space      14  "
      ]
     },
     "execution_count": 189,
     "metadata": {},
     "output_type": "execute_result"
    }
   ],
   "source": [
    "### BEGIN STARTER CODE\n",
    "data = {'text':[], 'target_name':[], 'target':[]}\n",
    "data['text'] = newsgroups_train.data\n",
    "data['target_name'] = [newsgroups_train.target_names[target] for target in newsgroups_train.target]\n",
    "data['target'] = [target for target in newsgroups_train.target]\n",
    "df = pd.DataFrame(data)\n",
    "df.head()\n",
    "### END STARTER CODE"
   ]
  },
  {
   "cell_type": "code",
   "execution_count": 4,
   "metadata": {},
   "outputs": [
    {
     "name": "stdout",
     "output_type": "stream",
     "text": [
      "From: jcm@head-cfa.harvard.edu (Jonathan McDowell)\n",
      "Subject: Re: Shuttle Launch Question\n",
      "Organization: Smithsonian Astrophysical Observatory, Cambridge, MA,  USA\n",
      "Distribution: sci\n",
      "Lines: 23\n",
      "\n",
      "From article <C5owCB.n3p@world.std.com>, by tombaker@world.std.com (Tom A Baker):\n",
      ">>In article <C5JLwx.4H9.1@cs.cmu.edu>, ETRAT@ttacs1.ttu.edu (Pack Rat) writes...\n",
      ">>>\"Clear caution & warning memory.  Verify no unexpected\n",
      ">>>errors. ...\".  I am wondering what an \"expected error\" might\n",
      ">>>be.  Sorry if this is a really dumb question, but\n",
      "> \n",
      "> Parity errors in memory or previously known conditions that were waivered.\n",
      ">    \"Yes that is an error, but we already knew about it\"\n",
      "> I'd be curious as to what the real meaning of the quote is.\n",
      "> \n",
      "> tom\n",
      "\n",
      "\n",
      "My understanding is that the 'expected errors' are basically\n",
      "known bugs in the warning system software - things are checked\n",
      "that don't have the right values in yet because they aren't\n",
      "set till after launch, and suchlike. Rather than fix the code\n",
      "and possibly introduce new bugs, they just tell the crew\n",
      "'ok, if you see a warning no. 213 before liftoff, ignore it'.\n",
      "\n",
      " - Jonathan\n",
      "\n",
      "\n",
      "\n"
     ]
    }
   ],
   "source": [
    "print(df['text'].iloc[4])"
   ]
  },
  {
   "cell_type": "code",
   "execution_count": 5,
   "metadata": {},
   "outputs": [
    {
     "data": {
      "text/plain": [
       "array([ 0,  1,  2,  3,  4,  5,  6,  7,  8,  9, 10, 11, 12, 13, 14, 15, 16,\n",
       "       17, 18, 19])"
      ]
     },
     "execution_count": 5,
     "metadata": {},
     "output_type": "execute_result"
    }
   ],
   "source": [
    "np.unique(df.target)"
   ]
  },
  {
   "cell_type": "code",
   "execution_count": 6,
   "metadata": {},
   "outputs": [
    {
     "data": {
      "text/plain": [
       "(11314, 3)"
      ]
     },
     "execution_count": 6,
     "metadata": {},
     "output_type": "execute_result"
    }
   ],
   "source": [
    "df.shape"
   ]
  },
  {
   "cell_type": "markdown",
   "metadata": {},
   "source": [
    "###  Preprocessing\n",
    "\n",
    "We want our topic model to identify interesting and important patterns. For that we need to \"normalize\" our text. Preprocessing is a crucial step before you train an LDA model and it markedly affects the results.\n"
   ]
  },
  {
   "cell_type": "code",
   "execution_count": 7,
   "metadata": {},
   "outputs": [],
   "source": [
    "### BEGIN STARTER CODE\n",
    "import spacy\n",
    "# Load English model for SpaCy\n",
    "nlp = spacy.load(\"en_core_web_sm\")\n",
    "\n",
    "### END STARTER CODE"
   ]
  },
  {
   "cell_type": "code",
   "execution_count": 40,
   "metadata": {},
   "outputs": [
    {
     "data": {
      "text/plain": [
       "From: jcm@head-cfa.harvard.edu (Jonathan McDowell)\n",
       "Subject: Re: Shuttle Launch Question\n",
       "Organization: Smithsonian Astrophysical Observatory, Cambridge, MA,  USA\n",
       "Distribution: sci\n",
       "Lines: 23\n",
       "\n",
       "From article <C5owCB.n3p@world.std.com>, by tombaker@world.std.com (Tom A Baker):\n",
       ">>In article <C5JLwx.4H9.1@cs.cmu.edu>, ETRAT@ttacs1.ttu.edu (Pack Rat) writes...\n",
       ">>>\"Clear caution & warning memory.  Verify no unexpected\n",
       ">>>errors. ...\".  I am wondering what an \"expected error\" might\n",
       ">>>be.  Sorry if this is a really dumb question, but\n",
       "> \n",
       "> Parity errors in memory or previously known conditions that were waivered.\n",
       ">    \"Yes that is an error, but we already knew about it\"\n",
       "> I'd be curious as to what the real meaning of the quote is.\n",
       "> \n",
       "> tom\n",
       "\n",
       "\n",
       "My understanding is that the 'expected errors' are basically\n",
       "known bugs in the warning system software - things are checked\n",
       "that don't have the right values in yet because they aren't\n",
       "set till after launch, and suchlike. Rather than fix the code\n",
       "and possibly introduce new bugs, they just tell the crew\n",
       "'ok, if you see a warning no. 213 before liftoff, ignore it'.\n",
       "\n",
       " - Jonathan\n",
       "\n"
      ]
     },
     "execution_count": 40,
     "metadata": {},
     "output_type": "execute_result"
    }
   ],
   "source": [
    "doc"
   ]
  },
  {
   "cell_type": "code",
   "execution_count": 82,
   "metadata": {},
   "outputs": [
    {
     "name": "stdout",
     "output_type": "stream",
     "text": [
      "C5JLwx.4H9.1@cs.cmu.edu\n"
     ]
    },
    {
     "data": {
      "text/plain": [
       "'c5jlwx.4h9.1@cs.cmu.edu'"
      ]
     },
     "execution_count": 82,
     "metadata": {},
     "output_type": "execute_result"
    }
   ],
   "source": [
    "doc = nlp(df['text'].iloc[4])\n",
    "i = 57\n",
    "print(doc[i])\n",
    "doc[i].lemma_.lower()"
   ]
  },
  {
   "cell_type": "code",
   "execution_count": 190,
   "metadata": {},
   "outputs": [
    {
     "name": "stdout",
     "output_type": "stream",
     "text": [
      "jonathan mcdowell subject shuttle launch question organization smithsonian astrophysical observatory cambridge ma usa distribution sci lines 23 article tom baker article pack rat write clear caution warning memory verify unexpected error wonder expected error sorry dumb question parity error memory know condition waivere yes error know curious real meaning quote tom understanding expected error know bug warning system software thing check right value set till launch suchlike fix code introduce new bug tell crew ok warning 213 liftoff ignore jonathan \n"
     ]
    }
   ],
   "source": [
    "### BEGIN STARTER CODE\n",
    "def preprocess(text, \n",
    "               min_token_len = 2, \n",
    "               irrelevant_pos = ['ADV','PRON','CCONJ','PUNCT','PART','DET','ADP','SPACE']): \n",
    "    \"\"\"\n",
    "    Given text, min_token_len, and irrelevant_pos carry out preprocessing of the text \n",
    "    and return a preprocessed string. \n",
    "    \n",
    "    Parameters\n",
    "    -------------\n",
    "    text : (str) \n",
    "        the text to be preprocessed\n",
    "    min_token_len : (int) \n",
    "        min_token_length required\n",
    "    irrelevant_pos : (list) \n",
    "        a list of irrelevant pos tags\n",
    "    \n",
    "    Returns\n",
    "    -------------\n",
    "    (str) the preprocessed text\n",
    "    \"\"\"\n",
    "    #YOUR CODE HERE\n",
    "    doc = nlp(text)\n",
    "    pp_text = ''\n",
    "    for token in doc:\n",
    "        if token.like_email or len(token)<min_token_len or token.is_stop:\n",
    "            continue\n",
    "        if token.pos_ in irrelevant_pos:\n",
    "            continue\n",
    "        pp_text = pp_text + token.lemma_.lower() +\" \"\n",
    "    return pp_text\n",
    "### END STARTER CODE    \n",
    "print(preprocess(df['text'].iloc[4]))"
   ]
  },
  {
   "cell_type": "code",
   "execution_count": 191,
   "metadata": {},
   "outputs": [
    {
     "name": "stdout",
     "output_type": "stream",
     "text": [
      "INFO: Pandarallel will run on 8 workers.\n",
      "INFO: Pandarallel will use Memory file system to transfer data between the main process and workers.\n",
      "time taken is 200.45548725128174 seconds\n"
     ]
    }
   ],
   "source": [
    "### YOUR ANSWER HERE\n",
    "from pandarallel import pandarallel\n",
    "pandarallel.initialize()\n",
    "s = time.time()\n",
    "df['pp_text'] = df.text.parallel_apply(preprocess)\n",
    "t = time.time()-s\n",
    "print(\"time taken is\",t,'seconds')"
   ]
  },
  {
   "cell_type": "code",
   "execution_count": 192,
   "metadata": {},
   "outputs": [
    {
     "data": {
      "text/plain": [
       "0    thing subject car nntp post host rac3.wam.umd.edu organization university maryland college park ...\n",
       "1    guy kuo subject si clock poll final summary final si clock report keywords si acceleration clock...\n",
       "2    thomas willis subject pb question organization purdue university engineering computer network di...\n",
       "3    jgreen@amber joe green subject weitek p9000 organization harris computer systems division line 1...\n",
       "4    jonathan mcdowell subject shuttle launch question organization smithsonian astrophysical observa...\n",
       "Name: pp_text, dtype: object"
      ]
     },
     "execution_count": 192,
     "metadata": {},
     "output_type": "execute_result"
    }
   ],
   "source": [
    "### YOUR ANSWER HERE\n",
    "df['pp_text'].head()"
   ]
  },
  {
   "cell_type": "markdown",
   "metadata": {},
   "source": [
    "###  Build dictionary and document-term co-occurrence matrix\n",
    "\n",
    "We need two things to build `gensim`'s `LdaModel`: a dictionary and a document-term co-occurrence matrix. "
   ]
  },
  {
   "cell_type": "code",
   "execution_count": 219,
   "metadata": {},
   "outputs": [],
   "source": [
    "### YOUR ANSWER HERE\n",
    "corpus = [text.split() for text in df.pp_text.values]\n",
    "dictionary = corpora.Dictionary(corpus)"
   ]
  },
  {
   "cell_type": "code",
   "execution_count": 220,
   "metadata": {},
   "outputs": [],
   "source": [
    "doc_term_matrix = [dictionary.doc2bow(doc) for doc in corpus]"
   ]
  },
  {
   "cell_type": "markdown",
   "metadata": {},
   "source": [
    "###  Build a topic model\n",
    "\n"
   ]
  },
  {
   "cell_type": "code",
   "execution_count": 208,
   "metadata": {},
   "outputs": [],
   "source": [
    "lda = models.LdaModel(corpus=doc_term_matrix, \n",
    "                      id2word=dictionary, \n",
    "                      num_topics=7, \n",
    "                      passes=10)"
   ]
  },
  {
   "cell_type": "code",
   "execution_count": 210,
   "metadata": {},
   "outputs": [
    {
     "data": {
      "text/plain": [
       "[(0,\n",
       "  '0.014*\"space\" + 0.006*\"nasa\" + 0.005*\"launch\" + 0.004*\"orbit\" + 0.004*\"moon\" + 0.004*\"food\" + 0.004*\"earth\" + 0.004*\"organization\" + 0.003*\"gordon\" + 0.003*\"msg\" + 0.003*\"science\" + 0.003*\"article\" + 0.003*\"subject\" + 0.003*\"satellite\" + 0.003*\"disease\" + 0.003*\"mission\" + 0.003*\"research\" + 0.003*\"banks\" + 0.003*\"center\" + 0.003*\"year\"'),\n",
       " (1,\n",
       "  '0.011*\"file\" + 0.008*\"use\" + 0.007*\"window\" + 0.007*\"problem\" + 0.007*\"line\" + 0.006*\"subject\" + 0.006*\"card\" + 0.006*\"program\" + 0.006*\"drive\" + 0.005*\"organization\" + 0.005*\"windows\" + 0.005*\"g9v\" + 0.005*\"system\" + 0.005*\"work\" + 0.005*\"write\" + 0.005*\"disk\" + 0.005*\"need\" + 0.004*\"run\" + 0.004*\"driver\" + 0.004*\"set\"'),\n",
       " (2,\n",
       "  '0.014*\"subject\" + 0.014*\"organization\" + 0.009*\"university\" + 0.008*\"line\" + 0.007*\"nntp\" + 0.007*\"host\" + 0.007*\"lines\" + 0.007*\"write\" + 0.007*\"posting\" + 0.006*\"article\" + 0.005*\"good\" + 0.005*\"game\" + 0.005*\"year\" + 0.004*\"team\" + 0.004*\"new\" + 0.004*\"like\" + 0.004*\"think\" + 0.004*\"know\" + 0.003*\"distribution\" + 0.003*\"get\"'),\n",
       " (3,\n",
       "  '0.012*\"god\" + 0.010*\"people\" + 0.008*\"write\" + 0.008*\"think\" + 0.008*\"know\" + 0.007*\"say\" + 0.006*\"subject\" + 0.006*\"believe\" + 0.005*\"organization\" + 0.005*\"come\" + 0.005*\"article\" + 0.005*\"like\" + 0.005*\"thing\" + 0.004*\"time\" + 0.004*\"jesus\" + 0.004*\"good\" + 0.004*\"line\" + 0.004*\"way\" + 0.004*\"man\" + 0.004*\"go\"'),\n",
       " (4,\n",
       "  '0.005*\"available\" + 0.005*\"server\" + 0.004*\"version\" + 0.004*\"include\" + 0.004*\"image\" + 0.003*\"motif\" + 0.003*\"mail\" + 0.003*\"software\" + 0.003*\"ftp\" + 0.003*\"list\" + 0.003*\"information\" + 0.003*\"package\" + 0.003*\"source\" + 0.003*\"fax\" + 0.002*\"code\" + 0.002*\"user\" + 0.002*\"subject\" + 0.002*\"sun\" + 0.002*\"send\" + 0.002*\"library\"'),\n",
       " (5,\n",
       "  '0.008*\"write\" + 0.007*\"subject\" + 0.007*\"organization\" + 0.006*\"key\" + 0.006*\"article\" + 0.005*\"like\" + 0.005*\"car\" + 0.005*\"use\" + 0.005*\"line\" + 0.004*\"know\" + 0.004*\"think\" + 0.004*\"good\" + 0.004*\"time\" + 0.004*\"work\" + 0.004*\"people\" + 0.003*\"need\" + 0.003*\"go\" + 0.003*\"system\" + 0.003*\"thing\" + 0.003*\"want\"'),\n",
       " (6,\n",
       "  '0.007*\"gun\" + 0.007*\"people\" + 0.005*\"write\" + 0.005*\"right\" + 0.005*\"state\" + 0.005*\"article\" + 0.004*\"subject\" + 0.004*\"israel\" + 0.004*\"say\" + 0.004*\"organization\" + 0.004*\"government\" + 0.003*\"kill\" + 0.003*\"war\" + 0.003*\"israeli\" + 0.003*\"weapon\" + 0.003*\"year\" + 0.003*\"turkish\" + 0.003*\"jews\" + 0.003*\"like\" + 0.003*\"crime\"')]"
      ]
     },
     "execution_count": 210,
     "metadata": {},
     "output_type": "execute_result"
    }
   ],
   "source": [
    "\n",
    "lda.print_topics(num_words=20)"
   ]
  },
  {
   "cell_type": "markdown",
   "metadata": {},
   "source": [
    "### Model description\n",
    "\n",
    "* Total of 7 topics were chosen and for each topic 15 words were displayed.\n",
    "* The result displayed words corresponding to particular topic and its associated probability."
   ]
  },
  {
   "cell_type": "markdown",
   "metadata": {},
   "source": [
    "###  Visualization and interpretation\n",
    "\n"
   ]
  },
  {
   "cell_type": "code",
   "execution_count": 198,
   "metadata": {},
   "outputs": [],
   "source": [
    "### BEGIN STARTER CODE\n",
    "topic_labels = {0:'Science and technology'}\n",
    "### END STARTER CODE"
   ]
  },
  {
   "cell_type": "code",
   "execution_count": 211,
   "metadata": {},
   "outputs": [
    {
     "data": {
      "text/html": [
       "\n",
       "<link rel=\"stylesheet\" type=\"text/css\" href=\"https://cdn.rawgit.com/bmabey/pyLDAvis/files/ldavis.v1.0.0.css\">\n",
       "\n",
       "\n",
       "<div id=\"ldavis_el108601406406198510882309575884\"></div>\n",
       "<script type=\"text/javascript\">\n",
       "\n",
       "var ldavis_el108601406406198510882309575884_data = {\"mdsDat\": {\"x\": [0.1011106751261847, 0.09066640707436001, -0.05337708559077132, -0.16583689720629616, 0.2631914122667017, -0.0952742395764473, -0.14048027209373123], \"y\": [0.2383023486362331, -0.14440212973016264, -0.08206865561834317, 0.004580171641126662, -0.03785651811910339, -0.03644278746237196, 0.05788757065262103], \"topics\": [1, 2, 3, 4, 5, 6, 7], \"cluster\": [1, 1, 1, 1, 1, 1, 1], \"Freq\": [5.0272536277771, 12.397863388061523, 22.65419578552246, 17.306297302246094, 6.9633989334106445, 21.445146560668945, 14.205853462219238]}, \"tinfo\": {\"Term\": [\"god\", \"file\", \"space\", \"people\", \"gun\", \"key\", \"window\", \"car\", \"card\", \"game\", \"team\", \"program\", \"jesus\", \"g9v\", \"government\", \"windows\", \"drive\", \"use\", \"israel\", \"driver\", \"disk\", \"believe\", \"say\", \"problem\", \"available\", \"think\", \"version\", \"server\", \"image\", \"nasa\", \"orbit\", \"msg\", \"lunar\", \"shuttle\", \"mars\", \"spacecraft\", \"diet\", \"propulsion\", \"comet\", \"/|\", \"jupiter\", \"jpl\", \"orbital\", \"intellect\", \"venus\", \"exploration\", \"shameful\", \"xmu\", \"atmosphere\", \"chastity\", \"n3jxp\", \"observatory\", \"payload\", \"baalke\", \"titan\", \"migraine\", \"zoology\", \"magellan\", \"ether\", \"lyme\", \"banks\", \"planetary\", \"nasa\", \"launch\", \"moon\", \"satellite\", \"gordon\", \"mission\", \"space\", \"flight\", \"patient\", \"disease\", \"food\", \"solar\", \"sensitivity\", \"henry\", \"earth\", \"syndrome\", \"probe\", \"rocket\", \"medical\", \"astronomy\", \"science\", \"research\", \"test\", \"center\", \"laboratory\", \"study\", \"project\", \"organization\", \"article\", \"year\", \"subject\", \"write\", \"1993\", \"line\", \"program\", \"g9v\", \"g)r\", \"jpeg\", \"vga\", \"bios\", \"giz\", \"ati\", \"vram\", \"cursor\", \"vlb\", \"char\", \"eisa\", \"colormap\", \"menu\", \"svga\", \"dma\", \"m\\\"`@(\\\"`@(\\\"`@(\\\"`@(\\\"`@(\\\"`@(\\\"`@(\\\"`@(\\\"`@(\\\"`@(\\\"`@(\\\"`@(\\\"`@(\\\"`@(\\\"`@\", \"32-bit\", \"irq\", \"fij\", \"6.0\", \"vesa\", \"oname\", \"8-bit\", \"xv\", \"0.333\", \"quicktime\", \"adaptec\", \"g9v=\", \"filename\", \"screen\", \"scsi\", \"isa\", \"byte\", \"3.1\", \"ram\", \"cache\", \"gif\", \"dos\", \"entry\", \"mb\", \"window\", \"mouse\", \"windows\", \"disk\", \"xterm\", \"file\", \"color\", \"controller\", \"floppy\", \"card\", \"mode\", \"ide\", \"pc\", \"port\", \"driver\", \"display\", \"video\", \"bus\", \"memory\", \"program\", \"format\", \"problem\", \"drive\", \"use\", \"set\", \"mac\", \"system\", \"run\", \"line\", \"work\", \"need\", \"subject\", \"organization\", \"write\", \"help\", \"try\", \"know\", \"season\", \"nhl\", \"baseball\", \"playoff\", \"pt\", \"shipping\", \"detroit\", \"montreal\", \"coach\", \"leafs\", \"minnesota\", \"hockey\", \"cubs\", \"amp\", \"rangers\", \"pitch\", \"winnipeg\", \"wings\", \"connector\", \"gerald\", \"philadelphia\", \"pens\", \"espn\", \"centris\", \"calgary\", \"player\", \"braves\", \"baltimore\", \"hitter\", \"stereo\", \"team\", \"score\", \"game\", \"fan\", \"league\", \"gm\", \"sale\", \"play\", \"cup\", \"win\", \"25\", \"pin\", \"university\", \"nntp\", \"host\", \"organization\", \"toronto\", \"subject\", \"lines\", \"posting\", \"10\", \"line\", \"thank\", \"15\", \"year\", \"good\", \"edu\", \"article\", \"new\", \"distribution\", \"write\", \"get\", \"reply\", \"like\", \"think\", \"know\", \"look\", \"computer\", \"time\", \"post\", \"god\", \"jesus\", \"bible\", \"faith\", \"christ\", \"atheist\", \"stephanopoulos\", \"christianity\", \"atheism\", \"gay\", \"holy\", \"homosexual\", \"doctrine\", \"christians\", \"catholic\", \"biblical\", \"worship\", \"marriage\", \"revelation\", \"sin\", \"lord\", \"koresh\", \"prophet\", \"verse\", \"cult\", \"teaching\", \"sabbath\", \"pope\", \"gospel\", \"homosexuality\", \"church\", \"heaven\", \"belief\", \"scripture\", \"christian\", \"religion\", \"father\", \"spirit\", \"truth\", \"islam\", \"believe\", \"evidence\", \"moral\", \"argument\", \"life\", \"man\", \"people\", \"say\", \"mr\", \"think\", \"word\", \"come\", \"know\", \"claim\", \"thing\", \"write\", \"tell\", \"mean\", \"question\", \"way\", \"time\", \"subject\", \"like\", \"article\", \"go\", \"point\", \"organization\", \"good\", \"line\", \"find\", \"want\", \"55.0\", \"03\", \"00\", \"nyi\", \"contrib\", \"gfci\", \"nyr\", \"deskjet\", \"sunos\", \"ink\", \"edm\", \"conductor\", \"--+\", \"---+\", \"export.lcs.mit.edu\", \"xdm\", \"openwindows\", \"allocation\", \"uw\", \"visualization\", \"imake\", \"xview\", \"sunview\", \"tutorial\", \"ipx\", \"prong\", \"osf\", \"cec\", \"06\", \"mw\", \"01\", \"motif\", \"pub\", \"1.0\", \"sparc\", \"02\", \"server\", \"04\", \"3d\", \"x11\", \"toolkit\", \"ftp\", \"mit\", \"/pub\", \"bos\", \"library\", \"printer\", \"available\", \"anonymous\", \"hp\", \"database\", \"c++\", \"font\", \"package\", \"image\", \"van\", \"fax\", \"version\", \"graphic\", \"include\", \"sun\", \"list\", \"software\", \"mail\", \"user\", \"source\", \"code\", \"information\", \"email\", \"faq\", \"internet\", \"send\", \"site\", \"program\", \"subject\", \"use\", \"car\", \"encryption\", \"clipper\", \"bike\", \"engine\", \"dod\", \"insurance\", \"escrow\", \"ripem\", \"privacy\", \"enforcement\", \"nsa\", \"encrypt\", \"pgp\", \"motorcycle\", \"crypto\", \"bmw\", \"rsa\", \"cryptography\", \"wiretap\", \"tire\", \"brake\", \"wheel\", \"honda\", \"cipher\", \"patent\", \"mph\", \"cellular\", \"initiative\", \"decrypt\", \"traffic\", \"key\", \"ride\", \"des\", \"tax\", \"oil\", \"secure\", \"tap\", \"clinton\", \"dealer\", \"chip\", \"security\", \"money\", \"president\", \"cost\", \"government\", \"company\", \"public\", \"use\", \"write\", \"like\", \"article\", \"organization\", \"subject\", \"work\", \"system\", \"need\", \"thing\", \"go\", \"good\", \"time\", \"know\", \"line\", \"think\", \"want\", \"people\", \"new\", \"get\", \"look\", \"lines\", \"posting\", \"host\", \"nntp\", \"way\", \"israeli\", \"turkish\", \"armenian\", \"armenians\", \"firearm\", \"db\", \"turkey\", \"turks\", \"armenia\", \"arab\", \"militia\", \"weapon\", \"village\", \"handgun\", \"argic\", \"serdar\", \"nazi\", \"arabs\", \"massacre\", \"lebanese\", \"troop\", \"palestinian\", \"atf\", \"lebanon\", \"israelis\", \"palestine\", \"azerbaijan\", \"sera@zuma\", \"holocaust\", \"assault\", \"israel\", \"gun\", \"crime\", \"territory\", \"greece\", \"war\", \"murder\", \"soldier\", \"army\", \"minority\", \"jews\", \"kill\", \"political\", \"population\", \"arm\", \"states\", \"military\", \"united\", \"country\", \"right\", \"state\", \"attack\", \"government\", \"people\", \"american\", \"control\", \"write\", \"say\", \"article\", \"subject\", \"law\", \"year\", \"organization\", \"child\", \"world\", \"case\", \"like\", \"time\", \"line\", \"know\", \"university\", \"think\"], \"Freq\": [3245.0, 2783.0, 1511.0, 5807.0, 1628.0, 2351.0, 1649.0, 1740.0, 1578.0, 1833.0, 1646.0, 2196.0, 1237.0, 1019.0, 1891.0, 1160.0, 2551.0, 4659.0, 996.0, 1191.0, 1042.0, 2352.0, 4171.0, 3200.0, 1407.0, 5710.0, 1528.0, 730.0, 1108.0, 497.0, 344.3738098144531, 278.308349609375, 211.62030029296875, 209.28514099121094, 156.96734619140625, 145.3883514404297, 127.62274932861328, 116.97870635986328, 108.9079818725586, 106.87117767333984, 92.69925689697266, 92.9039306640625, 84.15001678466797, 76.83792114257812, 76.08370971679688, 75.31905364990234, 74.46070861816406, 73.8609848022461, 70.95775604248047, 70.8080825805664, 69.75648498535156, 68.00049591064453, 65.18283081054688, 63.590885162353516, 60.16342544555664, 59.919952392578125, 72.03314208984375, 58.410118103027344, 58.4336051940918, 56.80073928833008, 231.7628631591797, 126.50067138671875, 476.2333068847656, 384.8320007324219, 326.71490478515625, 259.3766174316406, 282.2911376953125, 247.99652099609375, 1162.546630859375, 209.29733276367188, 217.14463806152344, 258.1979675292969, 321.32452392578125, 138.17959594726562, 84.06079864501953, 124.8036880493164, 314.44415283203125, 97.9529037475586, 127.85381317138672, 145.68946838378906, 170.509765625, 113.34628295898438, 265.0475769042969, 246.00283813476562, 211.5138702392578, 225.58245849609375, 149.80252075195312, 183.0762939453125, 165.1777801513672, 291.7027282714844, 260.729736328125, 221.6302947998047, 259.9352111816406, 217.56991577148438, 173.59414672851562, 187.594970703125, 173.66607666015625, 1018.9102783203125, 664.552001953125, 283.8544006347656, 264.85357666015625, 206.62228393554688, 185.7232208251953, 175.7034149169922, 168.4121551513672, 144.74366760253906, 141.11956787109375, 124.1196517944336, 120.61924743652344, 116.99897766113281, 137.85337829589844, 112.78426361083984, 109.97028350830078, 97.48164367675781, 90.12495422363281, 85.27369689941406, 80.68938446044922, 81.2892837524414, 164.90553283691406, 77.21821594238281, 80.75997161865234, 76.44049835205078, 73.89717102050781, 72.81990814208984, 71.91812133789062, 71.06044006347656, 70.89447784423828, 583.6515502929688, 617.4830322265625, 215.93768310546875, 270.72344970703125, 336.2012023925781, 417.0699157714844, 216.47714233398438, 234.77078247070312, 680.7781982421875, 693.92822265625, 637.8406372070312, 1490.7613525390625, 466.5278015136719, 1041.155517578125, 916.2106323242188, 231.7786102294922, 2273.987060546875, 799.9534912109375, 481.9017639160156, 299.1717529296875, 1280.7667236328125, 558.3067626953125, 395.2807922363281, 672.0363159179688, 426.2139587402344, 883.3621215820312, 612.794189453125, 577.5369262695312, 463.4136962890625, 565.7404174804688, 1239.4404296875, 474.9071350097656, 1372.9246826171875, 1171.8851318359375, 1663.12939453125, 814.06591796875, 545.431396484375, 1014.9561767578125, 888.41796875, 1350.6810302734375, 1004.6978759765625, 904.9332275390625, 1295.02685546875, 1071.5216064453125, 985.1096801757812, 700.6028442382812, 690.0277709960938, 730.9406127929688, 651.1926879882812, 437.4278564453125, 397.0008850097656, 325.168701171875, 257.8724670410156, 248.08119201660156, 229.9080810546875, 215.09275817871094, 189.7321319580078, 187.6542205810547, 186.1585235595703, 669.932861328125, 175.82998657226562, 173.0863494873047, 166.8128662109375, 163.3970489501953, 161.84437561035156, 161.07318115234375, 169.28509521484375, 152.35641479492188, 152.54502868652344, 151.65042114257812, 149.381591796875, 148.12811279296875, 146.24563598632812, 961.6072387695312, 141.63856506347656, 141.9658660888672, 137.8772430419922, 133.6957550048828, 1626.5662841796875, 440.9061279296875, 1787.1968994140625, 512.3731689453125, 496.6849060058594, 356.80926513671875, 849.15869140625, 1169.1378173828125, 274.89923095703125, 1017.4839477539062, 1000.4580688476562, 325.40167236328125, 3338.47998046875, 2663.21044921875, 2657.4794921875, 5099.71728515625, 384.06500244140625, 5142.74853515625, 2553.10595703125, 2378.276123046875, 983.615234375, 2943.923828125, 1058.6651611328125, 758.6948852539062, 1646.307373046875, 1874.7110595703125, 840.6378173828125, 2356.8916015625, 1561.1558837890625, 1233.864501953125, 2499.421630859375, 1173.4017333984375, 1089.6478271484375, 1513.4462890625, 1369.4427490234375, 1359.4586181640625, 1027.0, 914.0453491210938, 1043.2867431640625, 943.2632446289062, 3244.59814453125, 1236.1959228515625, 819.4622802734375, 589.1168823242188, 581.0665893554688, 572.5655517578125, 413.14874267578125, 347.7195129394531, 280.9010925292969, 279.9146423339844, 267.2897644042969, 256.6399230957031, 213.6426239013672, 617.8197631835938, 191.54281616210938, 189.0691680908203, 184.3678436279297, 185.11767578125, 177.77926635742188, 386.9850158691406, 324.5213623046875, 290.76300048828125, 142.0363006591797, 140.92254638671875, 141.5040283203125, 139.52438354492188, 137.55874633789062, 131.25059509277344, 130.37429809570312, 127.22109985351562, 707.0339965820312, 253.19094848632812, 574.9946899414062, 257.96051025390625, 852.5997314453125, 696.32373046875, 353.2181396484375, 251.2129669189453, 583.8817749023438, 276.625, 1623.9222412109375, 695.396240234375, 383.67559814453125, 600.9918823242188, 923.24853515625, 1039.4151611328125, 2661.39111328125, 2000.3883056640625, 482.8279113769531, 2264.556640625, 762.3062133789062, 1379.073486328125, 2132.443115234375, 744.3773803710938, 1265.334716796875, 2287.6416015625, 981.0039672851562, 929.7803955078125, 983.1986083984375, 1060.9459228515625, 1241.5081787109375, 1718.87841796875, 1280.6568603515625, 1356.0130615234375, 1021.7283935546875, 919.341552734375, 1417.420166015625, 1095.4993896484375, 1069.8453369140625, 866.7879028320312, 816.875732421875, 214.37123107910156, 155.55572509765625, 116.99726867675781, 101.45252227783203, 98.41712951660156, 84.76990509033203, 84.20121002197266, 80.8511734008789, 75.01934814453125, 67.46696472167969, 66.28602600097656, 67.0709228515625, 64.66778564453125, 62.81351089477539, 59.1823844909668, 58.272857666015625, 56.084136962890625, 56.38456726074219, 53.19932556152344, 52.339134216308594, 50.055667877197266, 67.5118408203125, 46.43050003051758, 46.034454345703125, 45.591739654541016, 46.2717170715332, 44.453269958496094, 44.328041076660156, 43.51564407348633, 61.3171501159668, 137.27426147460938, 380.2960510253906, 214.11135864257812, 93.88011932373047, 65.69073486328125, 145.3881072998047, 514.874755859375, 96.4053726196289, 174.75071716308594, 149.3837432861328, 100.73362731933594, 355.93218994140625, 158.2395782470703, 104.76305389404297, 122.61865997314453, 258.5911560058594, 236.86996459960938, 585.7737426757812, 202.68292236328125, 216.95936584472656, 126.58489990234375, 98.64015197753906, 218.6232452392578, 314.1138916015625, 399.73663330078125, 180.2214813232422, 285.630126953125, 429.0281677246094, 242.35147094726562, 422.34405517578125, 275.13604736328125, 343.552978515625, 360.1407165527344, 378.5137939453125, 276.15179443359375, 298.242431640625, 278.9530334472656, 317.2861328125, 255.9867706298828, 212.07046508789062, 247.32437133789062, 259.2379150390625, 207.99684143066406, 241.06910705566406, 276.12127685546875, 222.2588348388672, 1739.8155517578125, 853.565673828125, 761.5247192382812, 719.3385009765625, 427.12774658203125, 412.8053283691406, 388.43304443359375, 377.560791015625, 363.7853698730469, 355.3785400390625, 339.89263916015625, 320.1354064941406, 303.06378173828125, 296.9276428222656, 268.1617126464844, 255.4251251220703, 220.35250854492188, 213.49147033691406, 191.23883056640625, 190.28245544433594, 179.8481903076172, 155.2935791015625, 155.18771362304688, 148.7444610595703, 148.1619110107422, 146.9976348876953, 133.6542205810547, 130.69619750976562, 111.92495727539062, 111.16641998291016, 248.5802459716797, 2207.787353515625, 447.1558837890625, 353.7113342285156, 368.4820861816406, 279.9486083984375, 338.13726806640625, 220.7508544921875, 566.31396484375, 325.94622802734375, 1051.6700439453125, 518.471435546875, 627.06591796875, 597.76171875, 642.1740112304688, 1071.2376708984375, 593.884033203125, 845.0299072265625, 1728.9071044921875, 2655.5537109375, 1889.1236572265625, 2124.01318359375, 2395.46533203125, 2494.090576171875, 1292.234130859375, 1160.3062744140625, 1195.871826171875, 1142.8544921875, 1182.560791015625, 1341.1383056640625, 1318.2138671875, 1462.3492431640625, 1589.40771484375, 1371.1123046875, 1079.67578125, 1261.0272216796875, 1050.9180908203125, 918.4552001953125, 934.2713012695312, 1066.0321044921875, 1039.4560546875, 1014.2824096679688, 1000.6571044921875, 875.8721923828125, 692.0538940429688, 627.12841796875, 562.7765502929688, 501.98577880859375, 421.699462890625, 349.1960754394531, 347.5290832519531, 337.8918151855469, 334.91363525390625, 334.8551330566406, 272.5659484863281, 685.4380493164062, 268.5116882324219, 231.72923278808594, 227.27886962890625, 225.29978942871094, 186.47103881835938, 183.937744140625, 162.918212890625, 160.5153350830078, 202.02354431152344, 150.9587860107422, 150.67173767089844, 145.745849609375, 143.2436065673828, 135.77682495117188, 132.79891967773438, 128.60546875, 123.34117889404297, 141.6865692138672, 987.8863525390625, 1597.4339599609375, 592.968994140625, 153.3892364501953, 208.51263427734375, 730.507080078125, 340.5974426269531, 268.2237854003906, 232.98907470703125, 239.30038452148438, 606.5111694335938, 769.5114135742188, 383.00933837890625, 336.5087890625, 391.10321044921875, 317.7867736816406, 387.09246826171875, 326.2221374511719, 530.2763671875, 1125.972900390625, 1075.4632568359375, 458.90545654296875, 819.22900390625, 1571.0592041015625, 513.8482055664062, 546.6898803710938, 1210.935791015625, 846.1366577148438, 1039.1505126953125, 994.8592529296875, 566.8579711914062, 666.399169921875, 837.08349609375, 464.4233093261719, 546.4384155273438, 516.1747436523438, 599.4089965820312, 556.0556640625, 570.2767944335938, 559.30224609375, 546.0888061523438, 521.9452514648438], \"Total\": [3245.0, 2783.0, 1511.0, 5807.0, 1628.0, 2351.0, 1649.0, 1740.0, 1578.0, 1833.0, 1646.0, 2196.0, 1237.0, 1019.0, 1891.0, 1160.0, 2551.0, 4659.0, 996.0, 1191.0, 1042.0, 2352.0, 4171.0, 3200.0, 1407.0, 5710.0, 1528.0, 730.0, 1108.0, 497.0, 345.2164306640625, 279.1523742675781, 212.46315002441406, 210.12802124023438, 157.80999755859375, 146.2308807373047, 128.4676971435547, 117.82330322265625, 109.75251007080078, 107.71465301513672, 93.54173278808594, 93.74993896484375, 84.99433135986328, 77.68144226074219, 76.92658996582031, 76.16242218017578, 75.3039321899414, 74.71001434326172, 71.80131530761719, 71.65178680419922, 70.59898376464844, 68.84368896484375, 66.0257339477539, 64.43326568603516, 61.00657272338867, 60.76268768310547, 73.06246185302734, 59.25334167480469, 59.27946090698242, 57.643489837646484, 235.59495544433594, 128.728515625, 497.43170166015625, 405.3269348144531, 350.23406982421875, 277.6145935058594, 307.45611572265625, 275.6839904785156, 1511.8155517578125, 243.3606719970703, 259.8399353027344, 331.3248291015625, 463.6201171875, 162.6944122314453, 87.68403625488281, 155.6359405517578, 626.1314086914062, 112.10895538330078, 175.0641326904297, 220.23793029785156, 380.9531555175781, 153.9614715576172, 1304.05517578125, 1215.6827392578125, 821.1078491210938, 1138.018310546875, 314.2767639160156, 703.1502685546875, 522.859130859375, 11251.474609375, 7508.48681640625, 3754.359375, 12181.66015625, 9926.1640625, 1210.38525390625, 7842.685546875, 2196.06103515625, 1019.72802734375, 665.3699340820312, 284.69354248046875, 265.6729736328125, 207.45323181152344, 186.5410614013672, 176.5215606689453, 169.23193359375, 145.56219482421875, 141.9391326904297, 124.9381332397461, 121.4378433227539, 117.817138671875, 138.84136962890625, 113.60259246826172, 110.78858947753906, 98.29989624023438, 90.94805145263672, 86.09234619140625, 81.50950622558594, 82.1172103881836, 166.60794067382812, 78.03605651855469, 81.61906433105469, 77.25980377197266, 74.7156753540039, 73.63873291015625, 72.7362289428711, 71.87828063964844, 71.71344757080078, 595.6032104492188, 634.1026000976562, 219.62167358398438, 276.2716369628906, 344.24517822265625, 431.85968017578125, 221.5233612060547, 242.09197998046875, 720.0635986328125, 734.4345703125, 679.752197265625, 1649.9798583984375, 498.68170166015625, 1160.57275390625, 1042.1865234375, 242.53858947753906, 2783.02880859375, 911.2526245117188, 533.9683227539062, 319.90423583984375, 1578.1346435546875, 652.844482421875, 447.34088134765625, 843.742919921875, 495.8935852050781, 1191.561767578125, 771.6837768554688, 743.7603149414062, 572.647216796875, 742.35009765625, 2196.06103515625, 634.2741088867188, 3200.773681640625, 2551.842529296875, 4659.57861328125, 1602.470458984375, 832.774169921875, 3193.72998046875, 2568.641357421875, 7842.685546875, 3808.155517578125, 3439.18798828125, 12181.66015625, 11251.474609375, 9926.1640625, 2168.804931640625, 2846.013427734375, 6383.76611328125, 652.0173950195312, 438.25146484375, 397.8282470703125, 325.9923095703125, 258.6988830566406, 248.9088592529297, 230.73367309570312, 215.9170684814453, 190.56436157226562, 188.47781372070312, 186.98318481445312, 672.9735107421875, 176.6536407470703, 173.91099548339844, 167.63699340820312, 164.22256469726562, 162.66844177246094, 161.8988494873047, 170.19300842285156, 153.182373046875, 153.3725128173828, 152.47413635253906, 150.20506286621094, 148.95262145996094, 147.07069396972656, 967.0670776367188, 142.46214294433594, 142.79637145996094, 138.70082092285156, 134.52145385742188, 1646.9808349609375, 444.08441162109375, 1833.99609375, 526.5610961914062, 523.164794921875, 371.3406677246094, 929.5726928710938, 1346.9205322265625, 293.7206115722656, 1274.031494140625, 1263.6177978515625, 358.7239074707031, 5486.7587890625, 4729.822265625, 4908.408203125, 11251.474609375, 466.3467102050781, 12181.66015625, 5044.78955078125, 4708.1533203125, 1675.2938232421875, 7842.685546875, 1944.2376708984375, 1221.522705078125, 3754.359375, 4741.59033203125, 1458.684326171875, 7508.48681640625, 3993.4892578125, 2760.94970703125, 9926.1640625, 3032.71923828125, 2646.1025390625, 5997.390625, 5710.22314453125, 6383.76611328125, 3249.16748046875, 2155.887451171875, 4770.9443359375, 2780.084716796875, 3245.42529296875, 1237.0230712890625, 820.2906494140625, 589.9513549804688, 581.8938598632812, 573.3926391601562, 414.013671875, 348.5464172363281, 281.7281188964844, 280.7426452636719, 268.1173400878906, 257.467529296875, 214.46981811523438, 620.369140625, 192.36985778808594, 189.8970184326172, 185.19625854492188, 185.9774627685547, 178.60618591308594, 388.8378601074219, 326.1054992675781, 292.3731994628906, 142.86328125, 141.74952697753906, 142.33944702148438, 140.35499572753906, 138.38571166992188, 132.078125, 131.2019805908203, 128.0480194091797, 717.9229125976562, 255.2716827392578, 585.4100341796875, 260.8099060058594, 880.5292358398438, 737.898681640625, 369.8385314941406, 258.9306640625, 655.9351196289062, 294.5327453613281, 2352.4873046875, 885.697265625, 444.31829833984375, 788.7969970703125, 1397.457763671875, 1638.33935546875, 5807.5166015625, 4171.83056640625, 612.9302978515625, 5710.22314453125, 1244.475830078125, 3208.098388671875, 6383.76611328125, 1261.283935546875, 3240.3896484375, 9926.1640625, 2377.100830078125, 2251.382568359375, 2650.408447265625, 3247.1005859375, 4770.9443359375, 12181.66015625, 5997.390625, 7508.48681640625, 3487.932861328125, 2556.454833984375, 11251.474609375, 4741.59033203125, 7842.685546875, 2983.42822265625, 3455.266357421875, 215.20571899414062, 156.39089965820312, 117.8326644897461, 102.29026794433594, 99.25347137451172, 85.60662841796875, 85.03739929199219, 81.68702697753906, 75.85498809814453, 68.30323028564453, 67.12169647216797, 67.92720031738281, 65.50379180908203, 63.64960479736328, 60.02042770385742, 59.107948303222656, 56.91912078857422, 57.22951889038086, 54.03763961791992, 53.17707824707031, 50.8905143737793, 68.7053451538086, 47.26545715332031, 46.86994171142578, 46.432456970214844, 47.13176345825195, 45.28907012939453, 45.16459655761719, 44.354679107666016, 62.50090408325195, 144.29115295410156, 417.4927673339844, 230.05960083007812, 101.24475860595703, 69.02239227294922, 168.53627014160156, 730.9625244140625, 110.30438995361328, 226.0893096923828, 189.14559936523438, 117.28462982177734, 558.176513671875, 212.49639892578125, 125.29827117919922, 153.72421264648438, 421.53204345703125, 387.1527404785156, 1407.80908203125, 320.8267822265625, 363.61260986328125, 168.5397491455078, 119.21356964111328, 390.36724853515625, 696.1112060546875, 1108.4544677734375, 315.7505187988281, 713.15869140625, 1528.2186279296875, 582.6557006835938, 1963.9659423828125, 877.791748046875, 1382.43310546875, 1537.0343017578125, 1829.2276611328125, 972.6287231445312, 1213.660400390625, 1058.8134765625, 1865.9200439453125, 1064.2901611328125, 581.17626953125, 989.6375732421875, 1508.4873046875, 597.8316650390625, 2196.06103515625, 12181.66015625, 4659.57861328125, 1740.8765869140625, 854.3876342773438, 762.347412109375, 720.1611328125, 427.952392578125, 413.63214111328125, 389.2583923339844, 378.3824157714844, 364.6078186035156, 356.20068359375, 340.7154235839844, 320.957275390625, 303.8856506347656, 297.75018310546875, 268.98388671875, 256.2470397949219, 221.17520141601562, 214.31358337402344, 192.06080627441406, 191.1041259765625, 180.67091369628906, 156.11575317382812, 156.0106201171875, 149.56735229492188, 148.9838104248047, 147.82066345214844, 134.4767303466797, 131.61158752441406, 112.74850463867188, 111.98944091796875, 250.56614685058594, 2351.223388671875, 463.33172607421875, 364.73919677734375, 383.34783935546875, 290.212890625, 355.8203125, 228.4773406982422, 640.0977783203125, 362.541259765625, 1474.9111328125, 660.2702026367188, 849.9642333984375, 841.272216796875, 935.44482421875, 1891.6866455078125, 866.9263305664062, 1468.519287109375, 4659.57861328125, 9926.1640625, 5997.390625, 7508.48681640625, 11251.474609375, 12181.66015625, 3808.155517578125, 3193.72998046875, 3439.18798828125, 3240.3896484375, 3487.932861328125, 4741.59033203125, 4770.9443359375, 6383.76611328125, 7842.685546875, 5710.22314453125, 3455.266357421875, 5807.5166015625, 3993.4892578125, 3032.71923828125, 3249.16748046875, 5044.78955078125, 4708.1533203125, 4908.408203125, 4729.822265625, 3247.1005859375, 692.8751831054688, 627.9496459960938, 563.6041259765625, 502.9188537597656, 422.52099609375, 350.01873779296875, 348.3505554199219, 338.7130126953125, 335.73492431640625, 335.6763610839844, 273.38726806640625, 687.5321655273438, 269.3341064453125, 232.5508575439453, 228.1001434326172, 226.1211700439453, 187.2961883544922, 184.75894165039062, 163.74014282226562, 161.33648681640625, 203.12039184570312, 151.7799835205078, 151.51593017578125, 146.56707763671875, 144.06480407714844, 136.5982666015625, 133.63027954101562, 129.4265899658203, 124.17337799072266, 142.6497039794922, 996.572265625, 1628.676025390625, 640.2321166992188, 155.48779296875, 216.15806579589844, 837.321044921875, 368.0304870605469, 284.8953552246094, 246.55624389648438, 258.803466796875, 793.9391479492188, 1099.578857421875, 469.09649658203125, 402.7599182128906, 496.3731689453125, 380.752685546875, 518.5128173828125, 407.08868408203125, 855.54345703125, 2740.751220703125, 2622.484375, 698.809326171875, 1891.6866455078125, 5807.5166015625, 873.0606079101562, 1219.836181640625, 9926.1640625, 4171.83056640625, 7508.48681640625, 12181.66015625, 1992.357666015625, 3754.359375, 11251.474609375, 1122.2169189453125, 2484.277587890625, 2054.223876953125, 5997.390625, 4770.9443359375, 7842.685546875, 6383.76611328125, 5486.7587890625, 5710.22314453125], \"Category\": [\"Default\", \"Default\", \"Default\", \"Default\", \"Default\", \"Default\", \"Default\", \"Default\", \"Default\", \"Default\", \"Default\", \"Default\", \"Default\", \"Default\", \"Default\", \"Default\", \"Default\", \"Default\", \"Default\", \"Default\", \"Default\", \"Default\", \"Default\", \"Default\", \"Default\", \"Default\", \"Default\", \"Default\", \"Default\", \"Default\", \"Topic1\", \"Topic1\", \"Topic1\", \"Topic1\", \"Topic1\", \"Topic1\", \"Topic1\", \"Topic1\", \"Topic1\", \"Topic1\", \"Topic1\", \"Topic1\", \"Topic1\", \"Topic1\", \"Topic1\", \"Topic1\", \"Topic1\", \"Topic1\", \"Topic1\", \"Topic1\", \"Topic1\", \"Topic1\", \"Topic1\", \"Topic1\", \"Topic1\", \"Topic1\", \"Topic1\", \"Topic1\", \"Topic1\", \"Topic1\", \"Topic1\", \"Topic1\", \"Topic1\", \"Topic1\", \"Topic1\", \"Topic1\", \"Topic1\", \"Topic1\", \"Topic1\", \"Topic1\", \"Topic1\", \"Topic1\", \"Topic1\", \"Topic1\", \"Topic1\", \"Topic1\", \"Topic1\", \"Topic1\", \"Topic1\", \"Topic1\", \"Topic1\", \"Topic1\", \"Topic1\", \"Topic1\", \"Topic1\", \"Topic1\", \"Topic1\", \"Topic1\", \"Topic1\", \"Topic1\", \"Topic1\", \"Topic1\", \"Topic1\", \"Topic1\", \"Topic1\", \"Topic1\", \"Topic1\", \"Topic2\", \"Topic2\", \"Topic2\", \"Topic2\", \"Topic2\", \"Topic2\", \"Topic2\", \"Topic2\", \"Topic2\", \"Topic2\", \"Topic2\", \"Topic2\", \"Topic2\", \"Topic2\", \"Topic2\", \"Topic2\", \"Topic2\", \"Topic2\", \"Topic2\", \"Topic2\", \"Topic2\", \"Topic2\", \"Topic2\", \"Topic2\", \"Topic2\", \"Topic2\", \"Topic2\", \"Topic2\", \"Topic2\", \"Topic2\", \"Topic2\", \"Topic2\", \"Topic2\", \"Topic2\", \"Topic2\", \"Topic2\", \"Topic2\", \"Topic2\", \"Topic2\", \"Topic2\", \"Topic2\", \"Topic2\", \"Topic2\", \"Topic2\", \"Topic2\", \"Topic2\", \"Topic2\", \"Topic2\", \"Topic2\", \"Topic2\", \"Topic2\", \"Topic2\", \"Topic2\", \"Topic2\", \"Topic2\", \"Topic2\", \"Topic2\", \"Topic2\", \"Topic2\", \"Topic2\", \"Topic2\", \"Topic2\", \"Topic2\", \"Topic2\", \"Topic2\", \"Topic2\", \"Topic2\", \"Topic2\", \"Topic2\", \"Topic2\", \"Topic2\", \"Topic2\", \"Topic2\", \"Topic2\", \"Topic2\", \"Topic2\", \"Topic2\", \"Topic2\", \"Topic3\", \"Topic3\", \"Topic3\", \"Topic3\", \"Topic3\", \"Topic3\", \"Topic3\", \"Topic3\", \"Topic3\", \"Topic3\", \"Topic3\", \"Topic3\", \"Topic3\", \"Topic3\", \"Topic3\", \"Topic3\", \"Topic3\", \"Topic3\", \"Topic3\", \"Topic3\", \"Topic3\", \"Topic3\", \"Topic3\", \"Topic3\", \"Topic3\", \"Topic3\", \"Topic3\", \"Topic3\", \"Topic3\", \"Topic3\", \"Topic3\", \"Topic3\", \"Topic3\", \"Topic3\", \"Topic3\", \"Topic3\", \"Topic3\", \"Topic3\", \"Topic3\", \"Topic3\", \"Topic3\", \"Topic3\", \"Topic3\", \"Topic3\", \"Topic3\", \"Topic3\", \"Topic3\", \"Topic3\", \"Topic3\", \"Topic3\", \"Topic3\", \"Topic3\", \"Topic3\", \"Topic3\", \"Topic3\", \"Topic3\", \"Topic3\", \"Topic3\", \"Topic3\", \"Topic3\", \"Topic3\", \"Topic3\", \"Topic3\", \"Topic3\", \"Topic3\", \"Topic3\", \"Topic3\", \"Topic3\", \"Topic3\", \"Topic3\", \"Topic4\", \"Topic4\", \"Topic4\", \"Topic4\", \"Topic4\", \"Topic4\", \"Topic4\", \"Topic4\", \"Topic4\", \"Topic4\", \"Topic4\", \"Topic4\", \"Topic4\", \"Topic4\", \"Topic4\", \"Topic4\", \"Topic4\", \"Topic4\", \"Topic4\", \"Topic4\", \"Topic4\", \"Topic4\", \"Topic4\", \"Topic4\", \"Topic4\", \"Topic4\", \"Topic4\", \"Topic4\", \"Topic4\", \"Topic4\", \"Topic4\", \"Topic4\", \"Topic4\", \"Topic4\", \"Topic4\", \"Topic4\", \"Topic4\", \"Topic4\", \"Topic4\", \"Topic4\", \"Topic4\", \"Topic4\", \"Topic4\", \"Topic4\", \"Topic4\", \"Topic4\", \"Topic4\", \"Topic4\", \"Topic4\", \"Topic4\", \"Topic4\", \"Topic4\", \"Topic4\", \"Topic4\", \"Topic4\", \"Topic4\", \"Topic4\", \"Topic4\", \"Topic4\", \"Topic4\", \"Topic4\", \"Topic4\", \"Topic4\", \"Topic4\", \"Topic4\", \"Topic4\", \"Topic4\", \"Topic4\", \"Topic4\", \"Topic4\", \"Topic4\", \"Topic5\", \"Topic5\", \"Topic5\", \"Topic5\", \"Topic5\", \"Topic5\", \"Topic5\", \"Topic5\", \"Topic5\", \"Topic5\", \"Topic5\", \"Topic5\", \"Topic5\", \"Topic5\", \"Topic5\", \"Topic5\", \"Topic5\", \"Topic5\", \"Topic5\", \"Topic5\", \"Topic5\", \"Topic5\", \"Topic5\", \"Topic5\", \"Topic5\", \"Topic5\", \"Topic5\", \"Topic5\", \"Topic5\", \"Topic5\", \"Topic5\", \"Topic5\", \"Topic5\", \"Topic5\", \"Topic5\", \"Topic5\", \"Topic5\", \"Topic5\", \"Topic5\", \"Topic5\", \"Topic5\", \"Topic5\", \"Topic5\", \"Topic5\", \"Topic5\", \"Topic5\", \"Topic5\", \"Topic5\", \"Topic5\", \"Topic5\", \"Topic5\", \"Topic5\", \"Topic5\", \"Topic5\", \"Topic5\", \"Topic5\", \"Topic5\", \"Topic5\", \"Topic5\", \"Topic5\", \"Topic5\", \"Topic5\", \"Topic5\", \"Topic5\", \"Topic5\", \"Topic5\", \"Topic5\", \"Topic5\", \"Topic5\", \"Topic5\", \"Topic5\", \"Topic5\", \"Topic5\", \"Topic5\", \"Topic5\", \"Topic5\", \"Topic6\", \"Topic6\", \"Topic6\", \"Topic6\", \"Topic6\", \"Topic6\", \"Topic6\", \"Topic6\", \"Topic6\", \"Topic6\", \"Topic6\", \"Topic6\", \"Topic6\", \"Topic6\", \"Topic6\", \"Topic6\", \"Topic6\", \"Topic6\", \"Topic6\", \"Topic6\", \"Topic6\", \"Topic6\", \"Topic6\", \"Topic6\", \"Topic6\", \"Topic6\", \"Topic6\", \"Topic6\", \"Topic6\", \"Topic6\", \"Topic6\", \"Topic6\", \"Topic6\", \"Topic6\", \"Topic6\", \"Topic6\", \"Topic6\", \"Topic6\", \"Topic6\", \"Topic6\", \"Topic6\", \"Topic6\", \"Topic6\", \"Topic6\", \"Topic6\", \"Topic6\", \"Topic6\", \"Topic6\", \"Topic6\", \"Topic6\", \"Topic6\", \"Topic6\", \"Topic6\", \"Topic6\", \"Topic6\", \"Topic6\", \"Topic6\", \"Topic6\", \"Topic6\", \"Topic6\", \"Topic6\", \"Topic6\", \"Topic6\", \"Topic6\", \"Topic6\", \"Topic6\", \"Topic6\", \"Topic6\", \"Topic6\", \"Topic6\", \"Topic6\", \"Topic6\", \"Topic6\", \"Topic6\", \"Topic7\", \"Topic7\", \"Topic7\", \"Topic7\", \"Topic7\", \"Topic7\", \"Topic7\", \"Topic7\", \"Topic7\", \"Topic7\", \"Topic7\", \"Topic7\", \"Topic7\", \"Topic7\", \"Topic7\", \"Topic7\", \"Topic7\", \"Topic7\", \"Topic7\", \"Topic7\", \"Topic7\", \"Topic7\", \"Topic7\", \"Topic7\", \"Topic7\", \"Topic7\", \"Topic7\", \"Topic7\", \"Topic7\", \"Topic7\", \"Topic7\", \"Topic7\", \"Topic7\", \"Topic7\", \"Topic7\", \"Topic7\", \"Topic7\", \"Topic7\", \"Topic7\", \"Topic7\", \"Topic7\", \"Topic7\", \"Topic7\", \"Topic7\", \"Topic7\", \"Topic7\", \"Topic7\", \"Topic7\", \"Topic7\", \"Topic7\", \"Topic7\", \"Topic7\", \"Topic7\", \"Topic7\", \"Topic7\", \"Topic7\", \"Topic7\", \"Topic7\", \"Topic7\", \"Topic7\", \"Topic7\", \"Topic7\", \"Topic7\", \"Topic7\", \"Topic7\", \"Topic7\", \"Topic7\", \"Topic7\", \"Topic7\", \"Topic7\", \"Topic7\", \"Topic7\"], \"logprob\": [30.0, 29.0, 28.0, 27.0, 26.0, 25.0, 24.0, 23.0, 22.0, 21.0, 20.0, 19.0, 18.0, 17.0, 16.0, 15.0, 14.0, 13.0, 12.0, 11.0, 10.0, 9.0, 8.0, 7.0, 6.0, 5.0, 4.0, 3.0, 2.0, 1.0, -5.46019983291626, -5.6732001304626465, -5.9471001625061035, -5.958199977874756, -6.2459001541137695, -6.322500228881836, -6.4527997970581055, -6.539899826049805, -6.611400127410889, -6.630300045013428, -6.772600173950195, -6.770400047302246, -6.86929988861084, -6.96019983291626, -6.970099925994873, -6.980199813842773, -6.991700172424316, -6.99970006942749, -7.03980016708374, -7.041999816894531, -7.0569000244140625, -7.082399845123291, -7.12470006942749, -7.149499893188477, -7.204899787902832, -7.208899974822998, -7.024799823760986, -7.234399795532227, -7.234000205993652, -7.262400150299072, -5.856200218200684, -6.461699962615967, -5.136000156402588, -5.349100112915039, -5.512800216674805, -5.743599891662598, -5.658999919891357, -5.78849983215332, -4.243599891662598, -5.958199977874756, -5.92140007019043, -5.748199939727783, -5.5295000076293945, -6.3734002113342285, -6.8703999519348145, -6.475200176239014, -5.55109977722168, -6.717400074005127, -6.451000213623047, -6.320400238037109, -6.163099765777588, -6.571499824523926, -5.7220001220703125, -5.796599864959717, -5.9475998878479, -5.883200168609619, -6.292600154876709, -6.0920000076293945, -6.194900035858154, -5.626200199127197, -5.738399982452393, -5.900899887084961, -5.741499900817871, -5.919400215148926, -6.145199775695801, -6.067599773406982, -6.144800186157227, -5.27810001373291, -5.70550012588501, -6.556099891662598, -6.625400066375732, -6.873700141906738, -6.980299949645996, -7.035799980163574, -7.078199863433838, -7.229599952697754, -7.255000114440918, -7.383299827575684, -7.411900043487549, -7.442399978637695, -7.27839994430542, -7.479100227355957, -7.50439977645874, -7.624899864196777, -7.703400135040283, -7.758699893951416, -7.814000129699707, -7.806600093841553, -7.0991997718811035, -7.857900142669678, -7.8130998611450195, -7.868100166320801, -7.901899814605713, -7.916600227355957, -7.928999900817871, -7.940999984741211, -7.943399906158447, -5.835299968719482, -5.778900146484375, -6.829599857330322, -6.603499889373779, -6.386899948120117, -6.171299934387207, -6.827099800109863, -6.745999813079834, -5.681300163269043, -5.662199974060059, -5.746500015258789, -4.897500038146973, -6.059299945831299, -5.256499767303467, -5.384300231933594, -6.758800029754639, -4.475299835205078, -5.519999980926514, -6.026800155639648, -6.503600120544434, -5.0493998527526855, -5.879700183868408, -6.224999904632568, -5.694300174713135, -6.149600028991699, -5.42080020904541, -5.786499977111816, -5.845799922943115, -6.065999984741211, -5.866399765014648, -5.082200050354004, -6.041500091552734, -4.979899883270264, -5.138199806213379, -4.788099765777588, -5.502500057220459, -5.9029998779296875, -5.2820000648498535, -5.41510009765625, -4.996200084686279, -5.292099952697754, -5.396699905395508, -5.038300037384033, -5.227700233459473, -5.311800003051758, -5.652599811553955, -5.667799949645996, -5.610199928283691, -6.32859992980957, -6.726500034332275, -6.823500156402588, -7.023099899291992, -7.254899978637695, -7.293600082397461, -7.369699954986572, -7.436299800872803, -7.561800003051758, -7.572800159454346, -7.5808000564575195, -6.30019998550415, -7.637899875640869, -7.653600215911865, -7.690499782562256, -7.71120023727417, -7.720799922943115, -7.725500106811523, -7.67579984664917, -7.781199932098389, -7.779900074005127, -7.785799980163574, -7.800899982452393, -7.809299945831299, -7.8221001625061035, -5.938799858093262, -7.854100227355957, -7.851799964904785, -7.88100004196167, -7.911799907684326, -5.4131999015808105, -6.718599796295166, -5.318999767303467, -6.568299770355225, -6.599400043487549, -6.930200099945068, -6.063199996948242, -5.7434000968933105, -7.190999984741211, -5.882299900054932, -5.899199962615967, -7.022299766540527, -4.6940999031066895, -4.920100212097168, -4.922299861907959, -4.270500183105469, -6.856599807739258, -4.2621002197265625, -4.962299823760986, -5.033299922943115, -5.916200160980225, -4.819900035858154, -5.842599868774414, -6.17579984664917, -5.401100158691406, -5.271200180053711, -6.073200225830078, -5.042300224304199, -5.45419979095459, -5.689499855041504, -4.98360013961792, -5.739699840545654, -5.813799858093262, -5.485300064086914, -5.58519983291626, -5.592599868774414, -5.873000144958496, -5.989500045776367, -5.8572998046875, -5.958099842071533, -4.453400135040283, -5.418300151824951, -5.829500198364258, -6.1595001220703125, -6.173299789428711, -6.188000202178955, -6.5142998695373535, -6.686699867248535, -6.900100231170654, -6.903600215911865, -6.94980001449585, -6.9903998374938965, -7.173799991607666, -6.1118998527526855, -7.2829999923706055, -7.296000003814697, -7.321199893951416, -7.3171000480651855, -7.357600212097168, -6.579699993133545, -6.755799770355225, -6.865600109100342, -7.581999778747559, -7.589900016784668, -7.5858001708984375, -7.599899768829346, -7.614099979400635, -7.660999774932861, -7.667699813842773, -7.692200183868408, -5.9770002365112305, -7.004000186920166, -6.183800220489502, -6.985300064086914, -5.78980016708374, -5.992300033569336, -6.671000003814697, -7.0117998123168945, -6.168399810791016, -6.915500164031982, -5.145500183105469, -5.993599891662598, -6.5883002281188965, -6.139500141143799, -5.71019983291626, -5.591700077056885, -4.651500225067139, -4.936999797821045, -6.358500003814697, -4.813000202178955, -5.901800155639648, -5.309000015258789, -4.8730998039245605, -5.925600051879883, -5.394999980926514, -4.802800178527832, -5.649499893188477, -5.703199863433838, -5.647299766540527, -5.571199893951416, -5.414000034332275, -5.088699817657471, -5.382999897003174, -5.325799942016602, -5.60890007019043, -5.7144999504089355, -5.281499862670898, -5.5391998291015625, -5.562900066375732, -5.7733001708984375, -5.832600116729736, -6.260000228881836, -6.580699920654297, -6.865600109100342, -7.0081000328063965, -7.03849983215332, -7.18779993057251, -7.194499969482422, -7.235099792480469, -7.309999942779541, -7.416100025177002, -7.433700084686279, -7.421999931335449, -7.458499908447266, -7.487500190734863, -7.547100067138672, -7.562600135803223, -7.600900173187256, -7.5954999923706055, -7.65369987487793, -7.670000076293945, -7.714600086212158, -7.41540002822876, -7.78980016708374, -7.798299789428711, -7.808000087738037, -7.7932000160217285, -7.8333001136779785, -7.836100101470947, -7.854599952697754, -7.51170015335083, -6.705699920654297, -5.686800003051758, -6.261199951171875, -7.085700035095215, -7.442800045013428, -6.6483001708984375, -5.383800029754639, -7.059199810028076, -6.464399814605713, -6.621200084686279, -7.015200138092041, -5.752999782562256, -6.563600063323975, -6.97599983215332, -6.818600177764893, -6.072500228881836, -6.160200119018555, -5.254799842834473, -6.316100120544434, -6.248000144958496, -6.786799907684326, -7.036200046539307, -6.2403998374938965, -5.877999782562256, -5.636899948120117, -6.433499813079834, -5.9730000495910645, -5.566199779510498, -6.13730001449585, -5.581900119781494, -6.010499954223633, -5.788400173187256, -5.741199970245361, -5.691500186920166, -6.006800174713135, -5.929800033569336, -5.996699810028076, -5.8678998947143555, -6.082600116729736, -6.2708001136779785, -6.117000102996826, -6.070000171661377, -6.290200233459473, -6.142600059509277, -6.006899833679199, -6.223899841308594, -5.290999889373779, -6.0030999183654785, -6.117199897766113, -6.174200057983398, -6.695499897003174, -6.729599952697754, -6.79040002822876, -6.81879997253418, -6.855999946594238, -6.87939977645874, -6.923900127410889, -6.983799934387207, -7.038599967956543, -7.059100151062012, -7.160999774932861, -7.20959997177124, -7.3572998046875, -7.388999938964844, -7.499000072479248, -7.504000186920166, -7.560400009155273, -7.707200050354004, -7.707900047302246, -7.75029993057251, -7.754199981689453, -7.7621002197265625, -7.8572998046875, -7.879700183868408, -8.034700393676758, -8.041500091552734, -7.236800193786621, -5.052800178527832, -6.649600028991699, -6.884099960327148, -6.843200206756592, -7.1178998947143555, -6.929100036621094, -7.355500221252441, -6.413400173187256, -6.965799808502197, -5.794400215148926, -6.501699924468994, -6.311500072479248, -6.359399795532227, -6.287700176239014, -5.776000022888184, -6.365900039672852, -6.013199806213379, -5.297299861907959, -4.868100166320801, -5.208700180053711, -5.0914998054504395, -4.971199989318848, -4.9309000968933105, -5.588399887084961, -5.696100234985352, -5.665900230407715, -5.711299896240234, -5.67710018157959, -5.551300048828125, -5.56850004196167, -5.464799880981445, -5.381400108337402, -5.529200077056885, -5.768099784851074, -5.6128997802734375, -5.795100212097168, -5.929900169372559, -5.912799835205078, -5.780900001525879, -5.806099891662598, -5.830599784851074, -5.844099998474121, -5.97730016708374, -5.801000118255615, -5.899600028991699, -6.007800102233887, -6.122099876403809, -6.29640007019043, -6.485099792480469, -6.4899001121521, -6.51800012588501, -6.526800155639648, -6.5269999504089355, -6.732800006866455, -5.8105998039245605, -6.747799873352051, -6.895100116729736, -6.9145002365112305, -6.923299789428711, -7.112400054931641, -7.126100063323975, -7.247499942779541, -7.26230001449585, -7.032299995422363, -7.323699951171875, -7.3256001472473145, -7.358799934387207, -7.376200199127197, -7.429699897766113, -7.451900005340576, -7.484000205993652, -7.5258002281188965, -7.3871002197265625, -5.445099830627441, -4.964600086212158, -5.955599784851074, -7.307700157165527, -7.000699996948242, -5.747000217437744, -6.510000228881836, -6.748899936676025, -6.889699935913086, -6.86299991607666, -5.933000087738037, -5.694900035858154, -6.392600059509277, -6.52209997177124, -6.371699810028076, -6.5792999267578125, -6.381999969482422, -6.553100109100342, -6.067299842834473, -5.314300060272217, -5.360199928283691, -6.211900234222412, -5.632299900054932, -4.981200218200684, -6.098800182342529, -6.036799907684326, -5.241600036621094, -5.599999904632568, -5.394499778747559, -5.4380998611450195, -6.0005998611450195, -5.838799953460693, -5.610799789428711, -6.199900150299072, -6.037300109863281, -6.094299793243408, -5.944799900054932, -6.019800186157227, -5.99459981918335, -6.013999938964844, -6.037899971008301, -6.083099842071533], \"loglift\": [30.0, 29.0, 28.0, 27.0, 26.0, 25.0, 24.0, 23.0, 22.0, 21.0, 20.0, 19.0, 18.0, 17.0, 16.0, 15.0, 14.0, 13.0, 12.0, 11.0, 10.0, 9.0, 8.0, 7.0, 6.0, 5.0, 4.0, 3.0, 2.0, 1.0, 2.9879000186920166, 2.987299919128418, 2.986299991607666, 2.986299991607666, 2.9848999977111816, 2.984499931335449, 2.9837000370025635, 2.983099937438965, 2.982599973678589, 2.9823999404907227, 2.9811999797821045, 2.9811999797821045, 2.980299949645996, 2.9793999195098877, 2.979300022125244, 2.9791998863220215, 2.9790000915527344, 2.9788999557495117, 2.9784998893737793, 2.9784998893737793, 2.978300094604492, 2.9779999256134033, 2.977400064468384, 2.977099895477295, 2.9763998985290527, 2.976300001144409, 2.976099967956543, 2.9760000705718994, 2.9758999347686768, 2.975600004196167, 2.973900079727173, 2.9728000164031982, 2.946700096130371, 2.9384000301361084, 2.920799970626831, 2.922300100326538, 2.904900074005127, 2.884500026702881, 2.72760009765625, 2.8394999504089355, 2.810800075531006, 2.7409000396728516, 2.623699903488159, 2.8269999027252197, 2.9481000900268555, 2.7695000171661377, 2.301500082015991, 2.855299949645996, 2.6760001182556152, 2.5771000385284424, 2.1863999366760254, 2.684000015258789, 1.3969999551773071, 1.3926000595092773, 1.6339000463485718, 1.371899962425232, 2.249300003051758, 1.6446000337600708, 1.8380000591278076, -0.6621999740600586, -0.3700000047683716, 0.16060000658035278, -0.8569999933242798, -0.8300999999046326, 1.04830002784729, -0.7427999973297119, 0.453000009059906, 2.0868000984191895, 2.086400032043457, 2.084700107574463, 2.0845999717712402, 2.0836000442504883, 2.0833001136779785, 2.0829999446868896, 2.0827999114990234, 2.0820000171661377, 2.081899881362915, 2.0810999870300293, 2.080899953842163, 2.080699920654297, 2.0804998874664307, 2.080399990081787, 2.080199956893921, 2.0792999267578125, 2.0785999298095703, 2.0780999660491943, 2.077500104904175, 2.077500104904175, 2.077399969100952, 2.0771000385284424, 2.0771000385284424, 2.0769999027252197, 2.0766000747680664, 2.0764999389648438, 2.0762999057769775, 2.076200008392334, 2.076200008392334, 2.0673999786376953, 2.0611000061035156, 2.07069993019104, 2.0673999786376953, 2.063999891281128, 2.052799940109253, 2.0645999908447266, 2.0569000244140625, 2.0315001010894775, 2.030900001525879, 2.0239999294281006, 1.986199975013733, 2.0209999084472656, 1.979099988937378, 1.958799958229065, 2.04229998588562, 1.885599970817566, 1.9573999643325806, 1.9850000143051147, 2.0206000804901123, 1.8789000511169434, 1.9312000274658203, 1.9638999700546265, 1.8601000308990479, 1.9362000226974487, 1.7884000539779663, 1.857100009918213, 1.8346999883651733, 1.8760000467300415, 1.815999984741211, 1.5155999660491943, 1.79830002784729, 1.2411999702453613, 1.309399962425232, 1.0573999881744385, 1.4104000329971313, 1.6644999980926514, 0.9412999749183655, 1.0260000228881836, 0.3287000060081482, 0.7552000284194946, 0.7524999976158142, -0.15379999577999115, -0.2637999951839447, -0.2224999964237213, 0.9577000141143799, 0.6707000136375427, -0.0794999971985817, 1.4836000204086304, 1.4829000234603882, 1.482699990272522, 1.482300043106079, 1.481600046157837, 1.4815000295639038, 1.4811999797821045, 1.4809999465942383, 1.4803999662399292, 1.4803999662399292, 1.4803999662399292, 1.480299949645996, 1.4802000522613525, 1.4801000356674194, 1.4799000024795532, 1.4797999858856201, 1.479699969291687, 1.479699969291687, 1.4795000553131104, 1.4794000387191772, 1.4794000387191772, 1.4794000387191772, 1.4793000221252441, 1.4793000221252441, 1.479200005531311, 1.479200005531311, 1.4789999723434448, 1.4789999723434448, 1.4788999557495117, 1.478700041770935, 1.4723999500274658, 1.4775999784469604, 1.4589999914169312, 1.4574999809265137, 1.4328999519348145, 1.4449000358581543, 1.3942999839782715, 1.3432999849319458, 1.4185999631881714, 1.2599999904632568, 1.2512999773025513, 1.3873000144958496, 0.9879999756813049, 0.9104999899864197, 0.8712999820709229, 0.6934999823570251, 1.2906999588012695, 0.6225000023841858, 0.8037999868392944, 0.8019000291824341, 0.9523000121116638, 0.5049999952316284, 0.8769999742507935, 1.0085999965667725, 0.6603999733924866, 0.5569000244140625, 0.9337000250816345, 0.3260999917984009, 0.5455999970436096, 0.6794000267982483, 0.10570000112056732, 0.5353000164031982, 0.597599983215332, 0.10790000110864639, 0.05700000002980232, -0.061799999326467514, 0.33309999108314514, 0.6266999840736389, -0.03530000150203705, 0.40389999747276306, 1.7538000345230103, 1.7533999681472778, 1.753100037574768, 1.7526999711990356, 1.7526999711990356, 1.7526999711990356, 1.7519999742507935, 1.7517000436782837, 1.7511999607086182, 1.751099944114685, 1.7510000467300415, 1.7509000301361084, 1.7502000331878662, 1.75, 1.7497999668121338, 1.7496999502182007, 1.7496000528335571, 1.749500036239624, 1.749500036239624, 1.7493000030517578, 1.7491999864578247, 1.7486000061035156, 1.7482999563217163, 1.7482000589370728, 1.7482000589370728, 1.7482000589370728, 1.7481000423431396, 1.7477999925613403, 1.7477999925613403, 1.7475999593734741, 1.738800048828125, 1.74590003490448, 1.7360999584197998, 1.7431000471115112, 1.7218999862670898, 1.6960999965667725, 1.7080999612808228, 1.7237999439239502, 1.6376999616622925, 1.6914000511169434, 1.3834999799728394, 1.5121999979019165, 1.6073999404907227, 1.482200026512146, 1.3395999670028687, 1.2991000413894653, 0.973800003528595, 1.0190999507904053, 1.5154999494552612, 0.829200029373169, 1.2640000581741333, 0.9097999930381775, 0.6575999855995178, 1.2267999649047852, 0.8137000203132629, 0.2863999903202057, 0.8690000176429749, 0.869700014591217, 0.7623999714851379, 0.6355000138282776, 0.40790000557899475, -0.20419999957084656, 0.210099995136261, 0.04259999841451645, 0.5263000130653381, 0.7314000129699707, -0.3176000118255615, 0.2888999879360199, -0.23800000548362732, 0.5181000232696533, 0.31189998984336853, 2.660599946975708, 2.65910005569458, 2.657399892807007, 2.6563000679016113, 2.6559998989105225, 2.6547000408172607, 2.654599905014038, 2.6542000770568848, 2.65339994430542, 2.6521999835968018, 2.6519999504089355, 2.6517999172210693, 2.651700019836426, 2.6512999534606934, 2.650399923324585, 2.6503000259399414, 2.6496999263763428, 2.649600028991699, 2.648900032043457, 2.6486001014709473, 2.6480000019073486, 2.6470000743865967, 2.646699905395508, 2.6465001106262207, 2.646199941635132, 2.6461000442504883, 2.645900011062622, 2.6458001136779785, 2.645400047302246, 2.645400047302246, 2.6147000789642334, 2.571199893951416, 2.5927000045776367, 2.5889999866485596, 2.615000009536743, 2.5167999267578125, 2.3141000270843506, 2.5297999382019043, 2.406899929046631, 2.428499937057495, 2.512399911880493, 2.214600086212158, 2.3696999549865723, 2.4855000972747803, 2.4384000301361084, 2.1758999824523926, 2.1731998920440674, 1.787600040435791, 2.205199956893921, 2.148099899291992, 2.378200054168701, 2.475100040435791, 2.0848000049591064, 1.8687000274658203, 1.6446000337600708, 2.1036999225616455, 1.749500036239624, 1.3941999673843384, 1.7872999906539917, 1.1275999546051025, 1.5044000148773193, 1.2721999883651733, 1.2134000062942505, 1.0891000032424927, 1.405500054359436, 1.2610000371932983, 1.3306000232696533, 0.892799973487854, 1.2395999431610107, 1.6563999652862549, 1.277899980545044, 0.9034000039100647, 1.6087000370025635, 0.4551999866962433, -1.1223000288009644, -0.3783000111579895, 1.5391000509262085, 1.538699984550476, 1.538599967956543, 1.5384999513626099, 1.5377000570297241, 1.5377000570297241, 1.537500023841858, 1.537500023841858, 1.5374000072479248, 1.5374000072479248, 1.5372999906539917, 1.5370999574661255, 1.5369999408721924, 1.5369000434875488, 1.5365999937057495, 1.5364999771118164, 1.5358999967575073, 1.5357999801635742, 1.5354000329971313, 1.5354000329971313, 1.535099983215332, 1.5343999862670898, 1.5343999862670898, 1.5341999530792236, 1.53410005569458, 1.53410005569458, 1.5334999561309814, 1.5326999425888062, 1.5322999954223633, 1.5322999954223633, 1.5317000150680542, 1.476699948310852, 1.50409996509552, 1.5089999437332153, 1.500100016593933, 1.5037000179290771, 1.488700032234192, 1.5053000450134277, 1.417199969291687, 1.4333000183105469, 1.2015000581741333, 1.2978999614715576, 1.2354999780654907, 1.1979000568389893, 1.1634999513626099, 0.9710000157356262, 1.1613999605178833, 0.9869999885559082, 0.5482000112533569, 0.22120000422000885, 0.38449999690055847, 0.2768999934196472, -0.007199999876320362, -0.046300001442432404, 0.45890000462532043, 0.5271999835968018, 0.48330000042915344, 0.4975000023841858, 0.4580000042915344, 0.2768000066280365, 0.2533999979496002, 0.06599999964237213, -0.05649999901652336, 0.11299999803304672, 0.3763999938964844, 0.012400000356137753, 0.20469999313354492, 0.3452000021934509, 0.29330000281333923, -0.014700000174343586, 0.029100000858306885, -0.03709999844431877, -0.01360000018030405, 0.22939999401569366, 1.9502999782562256, 1.9501999616622925, 1.9500000476837158, 1.9496999979019165, 1.9495999813079834, 1.9492000341415405, 1.9492000341415405, 1.9491000175476074, 1.9491000175476074, 1.9491000175476074, 1.9485000371932983, 1.9485000371932983, 1.9485000371932983, 1.9479999542236328, 1.9479000568389893, 1.9479000568389893, 1.947100043296814, 1.947100043296814, 1.9464999437332153, 1.9464000463485718, 1.9460999965667725, 1.9460999965667725, 1.9458999633789062, 1.9458999633789062, 1.9457999467849731, 1.9455000162124634, 1.9452999830245972, 1.945199966430664, 1.9448000192642212, 1.944700002670288, 1.9428000450134277, 1.9321000576019287, 1.8747999668121338, 1.9378999471664429, 1.9155000448226929, 1.815000057220459, 1.8740999698638916, 1.8911999464035034, 1.8948999643325806, 1.8732000589370728, 1.6821999549865723, 1.594599962234497, 1.7488000392913818, 1.7718000411987305, 1.7131999731063843, 1.7706999778747559, 1.6591999530792236, 1.7301000356674194, 1.4731999635696411, 1.061900019645691, 1.0600999593734741, 1.531000018119812, 1.1146999597549438, 0.64410001039505, 1.4213999509811401, 1.148900032043457, -0.15230000019073486, 0.3560999929904938, -0.026100000366568565, -0.553600013256073, 0.694599986076355, 0.22269999980926514, -0.6467999815940857, 1.0693000555038452, 0.43720000982284546, 0.5702999830245972, -0.3515999913215637, -0.19789999723434448, -0.669700026512146, -0.48330000042915344, -0.35580000281333923, -0.4408999979496002]}, \"token.table\": {\"Topic\": [5, 5, 2, 5, 6, 1, 2, 5, 2, 5, 2, 4, 5, 5, 3, 5, 5, 3, 5, 1, 2, 3, 4, 5, 6, 7, 1, 2, 3, 4, 5, 6, 7, 1, 2, 3, 4, 5, 6, 7, 1, 2, 3, 4, 5, 6, 7, 2, 5, 2, 2, 5, 5, 2, 2, 2, 5, 1, 3, 4, 5, 6, 7, 3, 2, 5, 6, 7, 7, 7, 2, 4, 6, 7, 3, 4, 6, 7, 7, 7, 7, 5, 6, 7, 1, 2, 3, 4, 5, 6, 7, 7, 1, 3, 5, 7, 4, 4, 2, 1, 4, 6, 7, 1, 2, 3, 4, 5, 6, 7, 7, 1, 3, 1, 3, 3, 4, 6, 1, 2, 3, 4, 5, 6, 7, 4, 4, 6, 2, 6, 3, 5, 6, 3, 1, 2, 3, 4, 6, 7, 2, 6, 2, 5, 2, 3, 3, 6, 2, 3, 6, 7, 1, 2, 3, 4, 5, 6, 7, 4, 5, 6, 1, 2, 3, 4, 5, 6, 7, 3, 2, 1, 1, 2, 4, 5, 6, 7, 2, 3, 6, 4, 3, 4, 7, 4, 4, 7, 4, 6, 6, 2, 3, 4, 6, 7, 4, 6, 7, 6, 3, 2, 4, 5, 6, 7, 1, 2, 3, 4, 5, 7, 2, 1, 2, 3, 4, 5, 6, 7, 1, 1, 2, 3, 4, 5, 6, 7, 1, 2, 3, 4, 5, 6, 7, 5, 3, 5, 1, 2, 3, 4, 5, 6, 7, 2, 3, 1, 3, 4, 5, 6, 7, 2, 4, 6, 7, 6, 7, 6, 6, 3, 4, 3, 4, 2, 2, 5, 6, 7, 3, 6, 6, 3, 5, 6, 5, 3, 1, 1, 4, 7, 2, 3, 6, 1, 2, 3, 4, 5, 7, 1, 2, 3, 4, 5, 6, 7, 2, 4, 6, 2, 3, 5, 2, 3, 4, 6, 7, 2, 3, 6, 1, 3, 4, 6, 7, 5, 2, 3, 4, 5, 6, 7, 2, 2, 3, 4, 5, 6, 7, 6, 6, 6, 6, 1, 2, 3, 6, 7, 6, 3, 1, 4, 6, 7, 1, 5, 4, 3, 7, 1, 2, 3, 4, 5, 6, 4, 6, 7, 1, 2, 3, 4, 5, 6, 7, 2, 2, 5, 6, 7, 2, 1, 2, 3, 4, 5, 6, 7, 7, 1, 3, 7, 2, 3, 2, 5, 1, 4, 6, 7, 1, 2, 5, 2, 5, 6, 2, 2, 2, 2, 3, 4, 7, 4, 3, 1, 2, 3, 4, 6, 7, 5, 1, 2, 5, 2, 3, 4, 6, 1, 2, 3, 4, 6, 7, 4, 1, 2, 3, 4, 5, 6, 7, 1, 3, 4, 4, 6, 7, 2, 3, 5, 5, 7, 6, 7, 7, 4, 7, 1, 2, 3, 4, 5, 6, 7, 1, 3, 6, 3, 3, 5, 7, 4, 4, 4, 6, 1, 2, 3, 4, 5, 6, 7, 3, 5, 6, 2, 3, 1, 2, 4, 5, 6, 7, 5, 1, 2, 3, 4, 5, 6, 7, 1, 2, 3, 4, 5, 6, 7, 6, 5, 6, 1, 1, 2, 3, 4, 5, 6, 7, 5, 2, 2, 7, 4, 7, 4, 7, 7, 7, 4, 4, 7, 2, 1, 1, 2, 3, 4, 6, 3, 4, 5, 6, 7, 1, 2, 3, 4, 5, 6, 7, 4, 7, 1, 2, 3, 5, 6, 1, 7, 4, 6, 7, 3, 3, 7, 7, 7, 1, 2, 3, 4, 5, 6, 7, 1, 2, 3, 4, 6, 7, 1, 2, 3, 4, 5, 6, 7, 1, 2, 3, 4, 5, 6, 7, 1, 2, 3, 4, 5, 6, 7, 1, 2, 3, 4, 5, 6, 7, 1, 2, 3, 4, 5, 6, 7, 4, 7, 1, 1, 2, 2, 3, 5, 1, 1, 2, 3, 4, 5, 6, 7, 1, 2, 3, 4, 5, 6, 7, 4, 1, 7, 2, 3, 1, 2, 3, 4, 5, 6, 7, 1, 3, 4, 5, 6, 7, 1, 2, 3, 4, 5, 6, 7, 2, 1, 1, 4, 6, 7, 7, 3, 4, 7, 1, 4, 7, 1, 2, 5, 6, 1, 2, 3, 4, 5, 6, 3, 4, 6, 7, 3, 1, 3, 4, 6, 4, 7, 2, 5, 6, 1, 2, 3, 5, 6, 2, 4, 6, 7, 1, 4, 7, 5, 1, 1, 6, 7, 1, 2, 3, 4, 5, 6, 7, 1, 2, 3, 4, 5, 6, 7, 3, 1, 2, 3, 4, 5, 6, 7, 6, 5, 5, 1, 4, 6, 2, 5, 1, 1, 1, 2, 3, 4, 5, 6, 7, 5, 1, 2, 3, 4, 5, 6, 7, 7, 6, 1, 4, 7, 1, 2, 3, 5, 3, 1, 2, 3, 4, 5, 6, 7, 6, 3, 2, 3, 4, 6, 7, 3, 1, 6, 3, 4, 6, 7, 3, 4, 5, 3, 1, 2, 3, 4, 5, 6, 7, 1, 4, 6, 7, 4, 4, 6, 7, 2, 3, 5, 6, 7, 1, 2, 3, 4, 5, 6, 7, 1, 2, 3, 4, 5, 6, 7, 3, 4, 6, 7, 2, 3, 5, 6, 1, 3, 6, 1, 2, 3, 4, 5, 6, 7, 1, 2, 3, 4, 5, 6, 7, 1, 2, 3, 4, 5, 6, 7, 5, 4, 1, 3, 2, 5, 1, 2, 3, 4, 5, 6, 7, 1, 2, 3, 4, 5, 6, 7, 2, 2, 3, 3, 4, 7, 1, 2, 3, 4, 5, 6, 7, 1, 2, 3, 4, 5, 6, 7, 4, 3, 4, 6, 2, 3, 4, 5, 6, 7, 6, 1, 3, 6, 7, 6, 2, 3, 4, 5, 6, 7, 4, 3, 6, 1, 6, 1, 2, 3, 4, 6, 7, 1, 2, 3, 4, 5, 6, 7, 3, 7, 2, 3, 4, 4, 6, 2, 3, 3, 4, 6, 7, 5, 6, 7, 1, 2, 3, 4, 5, 6, 7, 1, 6, 7, 7, 2, 4, 5, 6, 1, 2, 3, 4, 5, 6, 7, 1, 3, 1, 4, 5, 1, 2, 3, 4, 5, 6, 7, 1, 2, 3, 4, 5, 6, 7, 1, 3, 4, 5, 7, 1, 2, 3, 4, 5, 6, 7, 1, 2, 3, 4, 5, 6, 7, 1, 2, 5, 4, 6, 2, 3, 4, 5, 6, 7, 1, 4, 6, 7, 4, 3, 1, 3, 4, 6, 7, 1, 2, 3, 4, 5, 6, 7, 1, 2, 3, 4, 5, 6, 7, 5, 5, 2, 1, 3, 7, 1, 2, 3, 4, 5, 6, 7, 5, 6, 6, 7, 4, 1, 3, 5, 1, 2, 3, 4, 5, 6, 7, 5, 7, 1, 2, 3, 4, 5, 6, 7, 1, 2, 3, 4, 5, 6, 7, 1, 2, 3, 4, 5, 6, 7, 1, 2, 3, 4, 6, 7, 1, 2, 3, 4, 5, 6, 7, 6, 1, 2, 5, 1, 3, 6, 3, 6, 7, 3, 4, 6, 7, 1, 2, 3, 4, 5, 6, 7, 7, 7, 7, 5, 1, 4, 5, 6, 7, 1, 2, 3, 4, 5, 6, 7, 1, 2, 3, 4, 5, 6, 7, 2, 3, 5, 6, 7, 5, 3, 4, 5, 6, 7, 1, 4, 2, 3, 4, 5, 6, 7, 2, 3, 2, 2, 3, 4, 5, 6, 7, 7, 5, 2, 2, 1, 2, 3, 4, 5, 6, 7, 1, 3, 4, 6, 7, 1, 2, 3, 4, 5, 6, 7, 6, 7, 6, 2, 3, 4, 6, 7, 2, 4, 5, 6, 7, 2, 5, 3, 3, 6, 1, 2, 3, 4, 5, 6, 7, 1, 2, 3, 4, 5, 6, 7, 1, 2, 3, 4, 5, 6, 7, 4, 1, 2, 3, 4, 5, 6, 7, 2, 5, 5, 1, 2, 5, 2, 2, 5, 1, 2, 3, 4, 6, 7, 1], \"Freq\": [0.9923089742660522, 0.9897940754890442, 0.03990478068590164, 0.8380004167556763, 0.11971434205770493, 0.9933652877807617, 0.9904213547706604, 0.9929335117340088, 0.04158259183168411, 0.9494691491127014, 0.01780032180249691, 0.11273537576198578, 0.8603489398956299, 0.997500479221344, 0.11785569041967392, 0.8703189492225647, 0.9920035600662231, 0.06913938373327255, 0.9284431338310242, 0.06864467263221741, 0.05790029093623161, 0.5873596668243408, 0.03342697396874428, 0.07759832590818405, 0.12654496729373932, 0.04834972694516182, 0.054030925035476685, 0.06221742555499077, 0.6213555932044983, 0.06631068140268326, 0.05730552598834038, 0.08186503499746323, 0.05730552598834038, 0.14375588297843933, 0.09501107037067413, 0.29412123560905457, 0.02148076333105564, 0.07683504372835159, 0.15614862740039825, 0.21315526962280273, 0.010287920944392681, 0.028489626944065094, 0.7913785576820374, 0.03877754881978035, 0.028489626944065094, 0.06489303708076477, 0.03719479218125343, 0.9760485291481018, 0.02033434435725212, 0.9895759224891663, 0.2255745679140091, 0.7740303874015808, 0.9943973422050476, 0.9863949418067932, 0.992415189743042, 0.9898781180381775, 0.9785159826278687, 0.004581583198159933, 0.13515670597553253, 0.08590468764305115, 0.008017770946025848, 0.17868174612522125, 0.5887334942817688, 0.9947617053985596, 0.10597618669271469, 0.6327401995658875, 0.25870656967163086, 0.9979850649833679, 0.9958922863006592, 0.9951769113540649, 0.05958440527319908, 0.7619197368621826, 0.048174627125263214, 0.12931083142757416, 0.09065759927034378, 0.03626304119825363, 0.08461376279592514, 0.7877138257026672, 0.9978110194206238, 0.9989281296730042, 0.9981729388237, 0.02839108742773533, 0.024335218593478203, 0.9450176358222961, 0.03476066514849663, 0.04634755477309227, 0.31391143798828125, 0.18059563636779785, 0.0031963831279426813, 0.28287988901138306, 0.13837674260139465, 0.9954454302787781, 0.7339498400688171, 0.1169123649597168, 0.14289289712905884, 0.9965949058532715, 0.9974155426025391, 0.9993152618408203, 0.9970453381538391, 0.9888398051261902, 0.0643952488899231, 0.27904608845710754, 0.6568315029144287, 0.0625084787607193, 0.1370924562215805, 0.10015562921762466, 0.02202003076672554, 0.4162496328353882, 0.24861325323581696, 0.013496148400008678, 0.9952834248542786, 0.9932757616043091, 0.9944230318069458, 0.9847409725189209, 0.012733719311654568, 0.9979180693626404, 0.98221755027771, 0.01708204485476017, 0.0034006559289991856, 0.013177542015910149, 0.08714181184768677, 0.6903331875801086, 0.0004250819911248982, 0.12709951400756836, 0.0782150849699974, 0.998426616191864, 0.9952762722969055, 0.9983876943588257, 0.9978152513504028, 0.9946865439414978, 0.19515468180179596, 0.8001341819763184, 0.992853045463562, 0.9967560172080994, 0.008731379173696041, 0.8085257411003113, 0.05937337875366211, 0.06111965328454971, 0.024447862058877945, 0.03667179122567177, 0.9809186458587646, 0.0180981308221817, 0.16776613891124725, 0.8304423689842224, 0.9750664830207825, 0.018056785687804222, 0.9927198886871338, 0.9994964599609375, 0.8117178082466125, 0.11786066740751266, 0.002534637926146388, 0.0678015649318695, 0.0146040553227067, 0.134844109416008, 0.1299760937690735, 0.20396998524665833, 0.0009736036881804466, 0.26384660601615906, 0.2511897683143616, 0.9980773329734802, 0.9742143750190735, 0.995353102684021, 0.19859082996845245, 0.02108929120004177, 0.2618587017059326, 0.01845313049852848, 0.06151043251156807, 0.10105285793542862, 0.33830738067626953, 0.9936045408248901, 0.9924912452697754, 0.9909034371376038, 0.004455466754734516, 0.004455466754734516, 0.5239628553390503, 0.000891093339305371, 0.05168341100215912, 0.41346728801727295, 0.14712750911712646, 0.13966943323612213, 0.7132633328437805, 0.9984638690948486, 0.030663376674056053, 0.9687355756759644, 0.00113568059168756, 0.9984322786331177, 0.996181070804596, 0.0032238869462162256, 0.9847853779792786, 0.013929071836173534, 0.993396520614624, 0.038849301636219025, 0.03329940140247345, 0.5898751020431519, 0.11654790490865707, 0.22120316326618195, 0.006249045487493277, 0.884239912033081, 0.1093582957983017, 0.9995442628860474, 0.9970384836196899, 0.3428365886211395, 0.08311189711093903, 0.2635025084018707, 0.28239157795906067, 0.028333602473139763, 0.019753029569983482, 0.8779124021530151, 0.051577355712652206, 0.014266076497733593, 0.010973905213177204, 0.025239981710910797, 0.9930643439292908, 0.0006234222673811018, 0.046756669878959656, 0.24843378365039825, 0.42984965443611145, 0.002181977964937687, 0.1845329999923706, 0.08759082853794098, 0.9931435585021973, 0.01614900678396225, 0.049600522965192795, 0.18225309252738953, 0.02537701278924942, 0.01614900678396225, 0.6851793527603149, 0.026530513539910316, 0.04963153228163719, 0.16976767778396606, 0.42395535111427307, 0.02133692055940628, 0.04035460948944092, 0.2704222798347473, 0.024119997397065163, 0.9863500595092773, 0.992990255355835, 0.987371027469635, 0.040169328451156616, 0.13362449407577515, 0.07787930965423584, 0.015575861558318138, 0.009017604403197765, 0.2754468321800232, 0.4484208822250366, 0.9026752710342407, 0.0955112874507904, 0.06841664761304855, 0.21807806193828583, 0.007483071181923151, 0.016035152599215508, 0.68630450963974, 0.004276040475815535, 0.005844238679856062, 0.10753399133682251, 0.26532843708992004, 0.6194892525672913, 0.07341087609529495, 0.9262265563011169, 0.9951334595680237, 0.9944767355918884, 0.9962998628616333, 0.9976152181625366, 0.9362638592720032, 0.06128272786736488, 0.996137797832489, 0.0059333182871341705, 0.7535314559936523, 0.2432660609483719, 0.9970895051956177, 0.09929904341697693, 0.8992080092430115, 0.9911648631095886, 0.02741684950888157, 0.002741685137152672, 0.9705564975738525, 0.9915895462036133, 0.9968202710151672, 0.9963594079017639, 0.7786920070648193, 0.11167288571596146, 0.1086547002196312, 0.878921389579773, 0.06812600046396255, 0.05181414261460304, 0.012958675622940063, 0.7943668365478516, 0.044059496372938156, 0.029804954305291176, 0.09589420258998871, 0.023325616493821144, 0.025715788826346397, 0.07606078684329987, 0.4469476640224457, 0.026077983900904655, 0.0409279465675354, 0.29844802618026733, 0.0862022191286087, 0.9928820133209229, 0.9978094100952148, 0.998471736907959, 0.945749819278717, 0.026386559009552002, 0.027775324881076813, 0.4592759907245636, 0.3205527067184448, 0.016066821292042732, 0.17164067924022675, 0.03252551704645157, 0.7410442233085632, 0.000839234737213701, 0.2576450705528259, 0.5014921426773071, 0.028747959062457085, 0.38969454169273376, 0.07346700876951218, 0.006388435140252113, 0.983288586139679, 0.01850983127951622, 0.5765469670295715, 0.026736421510577202, 0.004113295581191778, 0.10763123631477356, 0.26667866110801697, 0.9963945150375366, 0.27811965346336365, 0.4002667963504791, 0.01409390103071928, 0.2405359148979187, 0.05543601140379906, 0.011275121010839939, 0.9970855712890625, 0.9995462894439697, 0.9979002475738525, 0.9977745413780212, 0.0068079582415521145, 0.9449446201324463, 0.03812456876039505, 0.002723183250054717, 0.008169550448656082, 0.9989893436431885, 0.9919772148132324, 0.9784164428710938, 0.7846925258636475, 0.037258781492710114, 0.17726147174835205, 0.9847375750541687, 0.9829986691474915, 0.9983873963356018, 0.9723467826843262, 0.026587607339024544, 0.0757085308432579, 0.18238872289657593, 0.01032389048486948, 0.11528343707323074, 0.36477744579315186, 0.2512146532535553, 0.9544705748558044, 0.005407765507698059, 0.037854358553886414, 0.012619911693036556, 0.0925460234284401, 0.32951992750167847, 0.0042066373862326145, 0.40103277564048767, 0.12900353968143463, 0.03225088492035866, 0.9937491416931152, 0.8170953989028931, 0.07006754726171494, 0.05677267909049988, 0.05569471791386604, 0.9900513887405396, 0.040222182869911194, 0.19407203793525696, 0.1344091296195984, 0.2906052768230438, 0.026814790442585945, 0.22021645307540894, 0.09385176002979279, 0.9987669587135315, 0.8588076233863831, 0.0452004000544548, 0.0904008001089096, 0.934654712677002, 0.06251870840787888, 0.4380490481853485, 0.5610101819038391, 0.6923772096633911, 0.15529955923557281, 0.07117896527051926, 0.07764977961778641, 0.006306421477347612, 0.7488875985145569, 0.2443738430738449, 0.35114338994026184, 0.637791097164154, 0.010749287903308868, 0.9994440078735352, 0.9992860555648804, 0.9877809882164001, 0.003816802054643631, 0.9743750095367432, 0.01853875257074833, 0.002726287115365267, 0.9973546862602234, 0.9922812581062317, 0.005275793373584747, 0.08771006762981415, 0.38678160309791565, 0.15266826748847961, 0.30269864201545715, 0.06429873406887054, 0.9929137825965881, 0.024783968925476074, 0.9707054495811462, 0.004130661487579346, 0.9970995187759399, 0.9613813757896423, 0.010771780274808407, 0.026929449290037155, 0.0031537304166704416, 0.03211070969700813, 0.2362430840730667, 0.29301023483276367, 0.33916938304901123, 0.0963321328163147, 0.9998689293861389, 0.00042179939919151366, 0.05399032309651375, 0.39543694257736206, 0.23093517124652863, 0.002319896826520562, 0.28281649947166443, 0.03395485132932663, 0.9172040820121765, 0.07805991917848587, 0.9908387064933777, 0.0005286287632770836, 0.5661613941192627, 0.43294697999954224, 0.5749536156654358, 0.008581397123634815, 0.4153396189212799, 0.03238371014595032, 0.9668850302696228, 0.01903386600315571, 0.9805510640144348, 0.9976312518119812, 0.9911009073257446, 0.003917395137250423, 0.019826587289571762, 0.3232194781303406, 0.20702645182609558, 0.12449252605438232, 0.038269925862550735, 0.19273287057876587, 0.09544426947832108, 0.8031563758850098, 0.08352826535701752, 0.10922926664352417, 0.9949472546577454, 0.9955815076828003, 0.00297188526019454, 0.9905504584312439, 0.995832622051239, 0.9981841444969177, 0.991815447807312, 0.9962067008018494, 0.022410523146390915, 0.09677271544933319, 0.541316032409668, 0.04339492321014404, 0.016094831749796867, 0.20658428966999054, 0.07334353029727936, 0.3382720947265625, 0.5967890024185181, 0.06325413286685944, 0.8829955458641052, 0.11400701850652695, 0.09923727065324783, 0.4655130207538605, 0.05593373626470566, 0.3608628213405609, 0.009923727251589298, 0.008119413629174232, 0.9825013875961304, 0.04989903047680855, 0.19297687709331512, 0.16089892387390137, 0.09521549940109253, 0.214871346950531, 0.15122461318969727, 0.13442188501358032, 0.07878150790929794, 0.17417681217193604, 0.11093723028898239, 0.05788029357790947, 0.16988937556743622, 0.3038715422153473, 0.10397015511989594, 0.9933612942695618, 0.9809199571609497, 0.9967672228813171, 0.9912277460098267, 0.0010104709072038531, 0.1424763947725296, 0.3324449360370636, 0.0323350690305233, 0.2495863139629364, 0.2293768972158432, 0.012125651352107525, 0.990686297416687, 0.9873118996620178, 0.9835094809532166, 0.013659854419529438, 0.9404726624488831, 0.05771854147315025, 0.008027516305446625, 0.991398274898529, 0.9987368583679199, 0.9926088452339172, 0.9991729855537415, 0.2355344295501709, 0.7645422220230103, 0.997563898563385, 0.9920006394386292, 0.9942086338996887, 0.053589124232530594, 0.005529036745429039, 0.0017012420576065779, 0.9390856027603149, 0.029102051630616188, 0.1718839854001999, 0.0009094391134567559, 0.09730998426675797, 0.7002680897712708, 0.016917912289500237, 0.1145092099905014, 0.21288374066352844, 0.33397212624549866, 0.004856067709624767, 0.2290184199810028, 0.08756586164236069, 0.9953032732009888, 0.003420286113396287, 0.47728630900382996, 0.08591153472661972, 0.2450069785118103, 0.06045626848936081, 0.130458265542984, 0.9498504996299744, 0.04934288561344147, 0.3553578853607178, 0.3598751425743103, 0.28458744287490845, 0.9974648952484131, 0.9499874711036682, 0.04969753324985504, 0.9979143738746643, 0.9961309432983398, 0.04032908007502556, 0.10200884938240051, 0.08540275692939758, 0.04032908007502556, 0.6144254207611084, 0.023722989484667778, 0.09489195793867111, 0.016458457335829735, 0.007871436886489391, 0.02933899126946926, 0.6604850888252258, 0.13953910768032074, 0.1459793597459793, 0.008837176486849785, 0.10154416412115097, 0.25227639079093933, 0.21359288692474365, 0.008837176486849785, 0.31497031450271606, 0.099876768887043, 0.023971380665898323, 0.17226241528987885, 0.37538161873817444, 0.13643285632133484, 0.016703462228178978, 0.20260916650295258, 0.07267918437719345, 0.008325421251356602, 0.08186664432287216, 0.5060666799545288, 0.11120384931564331, 0.010109440423548222, 0.2113071233034134, 0.0713607594370842, 0.01519060879945755, 0.06727269291877747, 0.3407036364078522, 0.08897356688976288, 0.24883663654327393, 0.20615825057029724, 0.03327466547489166, 0.008617592044174671, 0.12003074586391449, 0.3160809576511383, 0.1849704533815384, 0.048012297600507736, 0.28745824098587036, 0.034470368176698685, 0.9966099858283997, 0.0030664922669529915, 0.9978200793266296, 0.9888367056846619, 0.9867762327194214, 0.6544391512870789, 0.30380386114120483, 0.0396265909075737, 0.9788477420806885, 0.0005466787843033671, 0.07544167339801788, 0.4761572480201721, 0.04428098350763321, 0.20719127357006073, 0.18751083314418793, 0.008746860548853874, 0.03662244975566864, 0.0024414965882897377, 0.1300096958875656, 0.6341787576675415, 0.006103741470724344, 0.06714116036891937, 0.1239059567451477, 0.9947441816329956, 0.9948672652244568, 0.9954797625541687, 0.9385773539543152, 0.06031609699130058, 0.004441715311259031, 0.06795824319124222, 0.10704533755779266, 0.41307950019836426, 0.00044417151366360486, 0.27538633346557617, 0.13191893696784973, 0.4488740861415863, 0.03674992546439171, 0.010499978438019753, 0.04199991375207901, 0.06299987435340881, 0.3989991843700409, 0.010776586830615997, 0.762443482875824, 0.1522192806005478, 0.029635611921548843, 0.004041220061480999, 0.013470732606947422, 0.026941465213894844, 0.9939400553703308, 0.9874480962753296, 0.07521511614322662, 0.03085748292505741, 0.1465730369091034, 0.7463653683662415, 0.9985834360122681, 0.9947418570518494, 0.07341478019952774, 0.9234806895256042, 0.899580717086792, 0.06891948729753494, 0.02901873178780079, 0.014117886312305927, 0.16941463947296143, 0.7435420155525208, 0.06588347256183624, 0.010722308419644833, 0.854721188545227, 0.010722308419644833, 0.022976376116275787, 0.0015317583456635475, 0.09803253412246704, 0.13882936537265778, 0.12118156999349594, 0.7376781105995178, 0.0011765201343223453, 0.9957526922225952, 0.9336612820625305, 0.011420933529734612, 0.042828500270843506, 0.014276166446506977, 0.8642452955245972, 0.1350383311510086, 0.08862429112195969, 0.9101954102516174, 0.9963421821594238, 0.03609516844153404, 0.9364690780639648, 0.020052870735526085, 0.00601586140692234, 0.9964548945426941, 0.13378356397151947, 0.7880178093910217, 0.006526027340441942, 0.0717862993478775, 0.995871901512146, 0.07336349040269852, 0.9265536665916443, 0.9759858846664429, 0.9915156960487366, 0.9569152593612671, 0.04020652547478676, 0.9930794835090637, 0.014538315124809742, 0.26314350962638855, 0.18987040221691132, 0.13695092499256134, 0.011630652472376823, 0.3477565050125122, 0.03605502098798752, 0.024539943784475327, 0.06560678780078888, 0.39088624715805054, 0.13522009551525116, 0.0360586903989315, 0.26317837834358215, 0.08463776111602783, 0.9971444010734558, 0.020931018516421318, 0.0788613110780716, 0.5630232691764832, 0.04038206860423088, 0.01035979762673378, 0.21163585782051086, 0.07484424859285355, 0.9970174431800842, 0.9873862266540527, 0.987800657749176, 0.9877448678016663, 0.03445746377110481, 0.9648089408874512, 0.9867233633995056, 0.9838521480560303, 0.9964763522148132, 0.9883012175559998, 0.025952154770493507, 0.09527640044689178, 0.4532739222049713, 0.1259390413761139, 0.012353936210274696, 0.21286098659038544, 0.07439024746417999, 0.9715368151664734, 0.010055864229798317, 0.11779727041721344, 0.06895449757575989, 0.002873104065656662, 0.45107734203338623, 0.3490821421146393, 0.9956202507019043, 0.9948610663414001, 0.9944482445716858, 0.8351294994354248, 0.07312194257974625, 0.08851603418588638, 0.9844646453857422, 0.7964511513710022, 0.08888963609933853, 0.1137787327170372, 0.9968903660774231, 0.00017219064466189593, 0.020318495109677315, 0.033060602843761444, 0.45819929242134094, 0.0005165719194337726, 0.21713238954544067, 0.2705115079879761, 0.9974805116653442, 0.9975711703300476, 0.04460254684090614, 0.9059892296791077, 0.013938295654952526, 0.01672595553100109, 0.01951361447572708, 0.9925554394721985, 0.9865723848342896, 0.01553657278418541, 0.8679056763648987, 0.05271283537149429, 0.03563684597611427, 0.0438036248087883, 0.9947603940963745, 0.0031021633185446262, 0.002068108879029751, 0.9969560503959656, 0.007041000761091709, 0.106397345662117, 0.19440984725952148, 0.35948219895362854, 0.006649834103882313, 0.2143593579530716, 0.11148250848054886, 0.0021317575592547655, 0.023449333384633064, 0.15561829507350922, 0.8164631724357605, 0.991837203502655, 0.1440063863992691, 0.01986294984817505, 0.8367267847061157, 0.8590552806854248, 0.05243060365319252, 0.02621530182659626, 0.05041404068470001, 0.01209937036037445, 0.03093430958688259, 0.0992775484919548, 0.3391982913017273, 0.20934614539146423, 0.0262581929564476, 0.21222375333309174, 0.08237159252166748, 0.021452147513628006, 0.07030357420444489, 0.5050812363624573, 0.07837467640638351, 0.015505017712712288, 0.22068099677562714, 0.0883573591709137, 0.03922630473971367, 0.038037627935409546, 0.7108281850814819, 0.21158431470394135, 0.3254529535770416, 0.06199103593826294, 0.6121615171432495, 0.9966291785240173, 0.7311606407165527, 0.005712192505598068, 0.26276084780693054, 0.027493352070450783, 0.4289587736129761, 0.09185279160737991, 0.15402525663375854, 0.0012496978743001819, 0.21244864165782928, 0.08404218405485153, 0.07923276722431183, 0.564191997051239, 0.0009107214864343405, 0.009562576189637184, 0.1097419410943985, 0.2254035770893097, 0.010473296977579594, 0.3155725598335266, 0.030600976198911667, 0.2505455017089844, 0.015300488099455833, 0.049726586788892746, 0.3346981704235077, 0.0019125610124319792, 0.9759872555732727, 0.9939572811126709, 0.9930123686790466, 0.9972984790802002, 0.06520049273967743, 0.9301937222480774, 0.008852454833686352, 0.03404790163040161, 0.04153843969106674, 0.08239591866731644, 0.06060526520013809, 0.5754095315933228, 0.19679686427116394, 0.016601214185357094, 0.1214907094836235, 0.1286594122648239, 0.3708862364292145, 0.013205511495471, 0.23996300995349884, 0.1090397983789444, 0.9913261532783508, 0.9655914306640625, 0.032417938113212585, 0.9962001442909241, 0.9432189464569092, 0.05556318536400795, 0.05706505849957466, 0.13000251352787018, 0.41192659735679626, 0.12093257904052734, 0.027965659275650978, 0.1579681783914566, 0.09410066157579422, 0.20235542953014374, 0.017274243757128716, 0.2492426633834839, 0.0485324002802372, 0.11351645737886429, 0.10858096182346344, 0.26075881719589233, 0.9966059923171997, 0.023741088807582855, 0.008633123710751534, 0.9647515416145325, 0.03502689301967621, 0.1152968555688858, 0.18060742318630219, 0.0010945904068648815, 0.2572287321090698, 0.41083627939224243, 0.9983329772949219, 0.6629194021224976, 0.09535142034292221, 0.03632435202598572, 0.19978393614292145, 0.993870735168457, 0.34570804238319397, 0.34687599539756775, 0.042824193835258484, 0.06306836009025574, 0.17596851289272308, 0.02569451741874218, 0.9972127676010132, 0.9133228659629822, 0.08498528599739075, 0.9329480528831482, 0.06483808904886246, 0.016539502888917923, 0.022052669897675514, 0.11817353963851929, 0.47940585017204285, 0.16084066033363342, 0.20278868079185486, 0.20321226119995117, 0.013036258518695831, 0.2867976725101471, 0.31210336089134216, 0.032974064350128174, 0.056746065616607666, 0.09508799761533737, 0.9930544495582581, 0.004503648262470961, 0.9805185794830322, 0.005036910530179739, 0.013431761413812637, 0.989226222038269, 0.0076684202067554, 0.9730286598205566, 0.025232508778572083, 0.998439610004425, 0.008431222289800644, 0.9499176740646362, 0.03934570029377937, 0.004543594550341368, 0.7845273017883301, 0.20900534093379974, 0.02386496774852276, 0.17235809564590454, 0.25455963611602783, 0.0795498937368393, 0.17169518768787384, 0.17567268013954163, 0.12197650223970413, 0.9579851031303406, 0.034213755279779434, 0.9967039823532104, 0.9950417280197144, 0.2640354335308075, 0.00820835493505001, 0.7045505046844482, 0.02188894711434841, 0.026209531351923943, 0.5079656839370728, 0.08112473785877228, 0.16100141406059265, 0.03744218870997429, 0.1266794055700302, 0.05990749970078468, 0.9826844334602356, 0.9963486194610596, 0.9946317672729492, 0.9952734708786011, 0.0025717660319060087, 0.04349050298333168, 0.24923403561115265, 0.041817791759967804, 0.016727115958929062, 0.34792402386665344, 0.24254319071769714, 0.058544907718896866, 0.032530177384614944, 0.3675910234451294, 0.1737111508846283, 0.009759053587913513, 0.23421728610992432, 0.17110873758792877, 0.010409656912088394, 0.8482159972190857, 0.14751581847667694, 0.045630790293216705, 0.010530182160437107, 0.9406962990760803, 0.08074746280908585, 0.22576332092285156, 0.04614140838384628, 0.14583981037139893, 0.24553820490837097, 0.08486723154783249, 0.17055842280387878, 0.7692737579345703, 0.1184006854891777, 0.0171978659927845, 0.0171978659927845, 0.0006614563753828406, 0.068791463971138, 0.00859893299639225, 0.9915826320648193, 0.04346415400505066, 0.9562114477157593, 0.969371497631073, 0.02703426405787468, 0.038513097912073135, 0.18226991593837738, 0.12202169746160507, 0.0007626356091350317, 0.24594998359680176, 0.40991663932800293, 0.03939565271139145, 0.01050550676882267, 0.11293420195579529, 0.8351877927780151, 0.9975516200065613, 0.9961236119270325, 0.2602573037147522, 0.001422171131707728, 0.4238069951534271, 0.05546467378735542, 0.2588351368904114, 0.02134356088936329, 0.10630735009908676, 0.4221920371055603, 0.1411137729883194, 0.022657010704278946, 0.20473399758338928, 0.08168016374111176, 0.07746712118387222, 0.11164379119873047, 0.16860491037368774, 0.1424027979373932, 0.313286155462265, 0.181136354804039, 0.004556889645755291, 0.9887286424636841, 0.9732266068458557, 0.9946956038475037, 0.8741496205329895, 0.053519364446401596, 0.06243925914168358, 0.052916184067726135, 0.31781020760536194, 0.08266196399927139, 0.07295544445514679, 0.05197684094309807, 0.36321166157722473, 0.058552227914333344, 0.03063761070370674, 0.9672731757164001, 0.9599636793136597, 0.03652035817503929, 0.9974707365036011, 0.01032191701233387, 0.9878681898117065, 0.0018215148011222482, 0.00042068050242960453, 0.09507379680871964, 0.1489209085702896, 0.4126875698566437, 0.0008413610048592091, 0.23473972082138062, 0.10769420862197876, 0.006431372836232185, 0.9840000867843628, 0.25818777084350586, 0.24722696840763092, 0.09742934256792068, 0.06698267161846161, 0.020703736692667007, 0.29594162106513977, 0.013396535068750381, 0.000514340412337333, 0.2787725031375885, 0.544686496257782, 0.049891021102666855, 0.030346084386110306, 0.07972276210784912, 0.016458893194794655, 0.010183960199356079, 0.07283074408769608, 0.11017193645238876, 0.39038515090942383, 0.0006172097055241466, 0.35273537039756775, 0.06326399743556976, 0.0019263694994151592, 0.030121413990855217, 0.23974545300006866, 0.39665699005126953, 0.24009568989276886, 0.09141498804092407, 0.02955389767885208, 0.09515935927629471, 0.21861499547958374, 0.2603258192539215, 0.003563235979527235, 0.2762555778026581, 0.11653877049684525, 0.9962865710258484, 0.983500599861145, 0.13642026484012604, 0.8611528873443604, 0.12651531398296356, 0.8234217166900635, 0.04931952804327011, 0.003990962170064449, 0.9937495589256287, 0.9944841265678406, 0.030490821227431297, 0.8903319835662842, 0.007622705306857824, 0.07012888789176941, 0.02143348939716816, 0.24244439601898193, 0.13000641763210297, 0.2610669434070587, 0.003162318142130971, 0.22417321801185608, 0.11805988103151321, 0.9989936947822571, 0.9984877109527588, 0.9978949427604675, 0.9814392328262329, 0.014738802798092365, 0.007369401399046183, 0.027021139860153198, 0.1473880261182785, 0.800808310508728, 0.01148218847811222, 0.06123834103345871, 0.608373761177063, 0.10734935104846954, 0.010753161273896694, 0.10115261375904083, 0.09951230138540268, 0.018241992220282555, 0.356899231672287, 0.05708670616149902, 0.0813378244638443, 0.047643791884183884, 0.37106359004974365, 0.06760267913341522, 0.3711591064929962, 0.009253273718059063, 0.28376707434654236, 0.32797715067863464, 0.0071969907730817795, 0.9807978272438049, 0.2882022261619568, 0.012668229639530182, 0.5700703263282776, 0.009501172229647636, 0.11718112230300903, 0.98795485496521, 0.9947122931480408, 0.38083556294441223, 0.12890826165676117, 0.08179458230733871, 0.28071898221969604, 0.1171298399567604, 0.010469705797731876, 0.9903489351272583, 0.006002115085721016, 0.9974669218063354, 0.7771320939064026, 0.16672037541866302, 0.0080671152099967, 0.00941163394600153, 0.03361297771334648, 0.005378076806664467, 0.9987595081329346, 0.9778649210929871, 0.993383526802063, 0.9927204251289368, 0.0011576531687751412, 0.1345771849155426, 0.1999845802783966, 0.236450657248497, 0.002894132863730192, 0.312566339969635, 0.11229235678911209, 0.0011942849960178137, 0.016719991341233253, 0.08957137912511826, 0.020302845165133476, 0.8730223774909973, 0.005543407052755356, 0.12287885695695877, 0.13180990517139435, 0.32675305008888245, 0.00030796704231761396, 0.26977914571762085, 0.1432046741247177, 0.0014544774312525988, 0.9963170289993286, 0.9935221076011658, 0.10203829407691956, 0.7982534170150757, 0.0353209488093853, 0.04395495727658272, 0.019622748717665672, 0.9036474227905273, 0.02484878897666931, 0.027273060753941536, 0.040606554597616196, 0.003636408131569624, 0.8969709277153015, 0.10253558307886124, 0.9944480657577515, 0.9958907961845398, 0.9942224025726318, 0.008035511709749699, 0.06267698854207993, 0.10044389218091965, 0.6123059988021851, 0.03053494356572628, 0.09160482883453369, 0.09481903910636902, 0.033349476754665375, 0.2639072835445404, 0.1318223476409912, 0.13418570160865784, 0.019169384613633156, 0.3392718732357025, 0.07851570099592209, 0.04548605903983116, 0.06198985129594803, 0.2857973575592041, 0.2572176456451416, 0.009660756215453148, 0.12035691738128662, 0.21978220343589783, 0.9935405850410461, 0.021962160244584084, 0.09923269599676132, 0.251758873462677, 0.2305019348859787, 0.007052069529891014, 0.2675756812095642, 0.1220008060336113, 0.20619036257266998, 0.7877529263496399, 0.9812555313110352, 0.9904963970184326, 0.956548810005188, 0.04123055189847946, 0.9836939573287964, 0.014554908499121666, 0.9897337555885315, 0.059131260961294174, 0.031696487218141556, 0.43842366337776184, 0.09215953201055527, 0.20109955966472626, 0.17739377915859222, 0.9854581952095032], \"Term\": [\"--+\", \"---+\", \"/pub\", \"/pub\", \"/pub\", \"/|\", \"0.333\", \"00\", \"01\", \"01\", \"02\", \"02\", \"02\", \"03\", \"04\", \"04\", \"06\", \"1.0\", \"1.0\", \"10\", \"10\", \"10\", \"10\", \"10\", \"10\", \"10\", \"15\", \"15\", \"15\", \"15\", \"15\", \"15\", \"15\", \"1993\", \"1993\", \"1993\", \"1993\", \"1993\", \"1993\", \"1993\", \"25\", \"25\", \"25\", \"25\", \"25\", \"25\", \"25\", \"3.1\", \"3.1\", \"32-bit\", \"3d\", \"3d\", \"55.0\", \"6.0\", \"8-bit\", \"adaptec\", \"allocation\", \"american\", \"american\", \"american\", \"american\", \"american\", \"american\", \"amp\", \"anonymous\", \"anonymous\", \"anonymous\", \"arab\", \"arabs\", \"argic\", \"argument\", \"argument\", \"argument\", \"argument\", \"arm\", \"arm\", \"arm\", \"arm\", \"armenia\", \"armenian\", \"armenians\", \"army\", \"army\", \"army\", \"article\", \"article\", \"article\", \"article\", \"article\", \"article\", \"article\", \"assault\", \"astronomy\", \"astronomy\", \"astronomy\", \"atf\", \"atheism\", \"atheist\", \"ati\", \"atmosphere\", \"attack\", \"attack\", \"attack\", \"available\", \"available\", \"available\", \"available\", \"available\", \"available\", \"available\", \"azerbaijan\", \"baalke\", \"baltimore\", \"banks\", \"banks\", \"baseball\", \"belief\", \"belief\", \"believe\", \"believe\", \"believe\", \"believe\", \"believe\", \"believe\", \"believe\", \"bible\", \"biblical\", \"bike\", \"bios\", \"bmw\", \"bos\", \"bos\", \"brake\", \"braves\", \"bus\", \"bus\", \"bus\", \"bus\", \"bus\", \"bus\", \"byte\", \"byte\", \"c++\", \"c++\", \"cache\", \"cache\", \"calgary\", \"car\", \"card\", \"card\", \"card\", \"card\", \"case\", \"case\", \"case\", \"case\", \"case\", \"case\", \"case\", \"catholic\", \"cec\", \"cellular\", \"center\", \"center\", \"center\", \"center\", \"center\", \"center\", \"center\", \"centris\", \"char\", \"chastity\", \"child\", \"child\", \"child\", \"child\", \"child\", \"child\", \"chip\", \"chip\", \"chip\", \"christ\", \"christian\", \"christian\", \"christian\", \"christianity\", \"christians\", \"christians\", \"church\", \"church\", \"cipher\", \"claim\", \"claim\", \"claim\", \"claim\", \"claim\", \"clinton\", \"clinton\", \"clinton\", \"clipper\", \"coach\", \"code\", \"code\", \"code\", \"code\", \"code\", \"color\", \"color\", \"color\", \"color\", \"color\", \"color\", \"colormap\", \"come\", \"come\", \"come\", \"come\", \"come\", \"come\", \"come\", \"comet\", \"company\", \"company\", \"company\", \"company\", \"company\", \"company\", \"company\", \"computer\", \"computer\", \"computer\", \"computer\", \"computer\", \"computer\", \"computer\", \"conductor\", \"connector\", \"contrib\", \"control\", \"control\", \"control\", \"control\", \"control\", \"control\", \"control\", \"controller\", \"controller\", \"cost\", \"cost\", \"cost\", \"cost\", \"cost\", \"cost\", \"country\", \"country\", \"country\", \"country\", \"crime\", \"crime\", \"crypto\", \"cryptography\", \"cubs\", \"cult\", \"cup\", \"cup\", \"cursor\", \"database\", \"database\", \"database\", \"db\", \"dealer\", \"dealer\", \"decrypt\", \"des\", \"des\", \"des\", \"deskjet\", \"detroit\", \"diet\", \"disease\", \"disease\", \"disease\", \"disk\", \"disk\", \"disk\", \"display\", \"display\", \"display\", \"display\", \"display\", \"display\", \"distribution\", \"distribution\", \"distribution\", \"distribution\", \"distribution\", \"distribution\", \"distribution\", \"dma\", \"doctrine\", \"dod\", \"dos\", \"dos\", \"dos\", \"drive\", \"drive\", \"drive\", \"drive\", \"drive\", \"driver\", \"driver\", \"driver\", \"earth\", \"earth\", \"earth\", \"earth\", \"earth\", \"edm\", \"edu\", \"edu\", \"edu\", \"edu\", \"edu\", \"edu\", \"eisa\", \"email\", \"email\", \"email\", \"email\", \"email\", \"email\", \"encrypt\", \"encryption\", \"enforcement\", \"engine\", \"entry\", \"entry\", \"entry\", \"entry\", \"entry\", \"escrow\", \"espn\", \"ether\", \"evidence\", \"evidence\", \"evidence\", \"exploration\", \"export.lcs.mit.edu\", \"faith\", \"fan\", \"fan\", \"faq\", \"faq\", \"faq\", \"faq\", \"faq\", \"faq\", \"father\", \"father\", \"father\", \"fax\", \"fax\", \"fax\", \"fax\", \"fax\", \"fax\", \"fax\", \"fij\", \"file\", \"file\", \"file\", \"file\", \"filename\", \"find\", \"find\", \"find\", \"find\", \"find\", \"find\", \"find\", \"firearm\", \"flight\", \"flight\", \"flight\", \"floppy\", \"floppy\", \"font\", \"font\", \"food\", \"food\", \"food\", \"food\", \"format\", \"format\", \"format\", \"ftp\", \"ftp\", \"ftp\", \"g)r\", \"g9v\", \"g9v=\", \"game\", \"game\", \"game\", \"game\", \"gay\", \"gerald\", \"get\", \"get\", \"get\", \"get\", \"get\", \"get\", \"gfci\", \"gif\", \"gif\", \"gif\", \"giz\", \"gm\", \"gm\", \"gm\", \"go\", \"go\", \"go\", \"go\", \"go\", \"go\", \"god\", \"good\", \"good\", \"good\", \"good\", \"good\", \"good\", \"good\", \"gordon\", \"gordon\", \"gospel\", \"government\", \"government\", \"government\", \"graphic\", \"graphic\", \"graphic\", \"greece\", \"greece\", \"gun\", \"gun\", \"handgun\", \"heaven\", \"heaven\", \"help\", \"help\", \"help\", \"help\", \"help\", \"help\", \"help\", \"henry\", \"henry\", \"henry\", \"hitter\", \"hockey\", \"hockey\", \"holocaust\", \"holy\", \"homosexual\", \"homosexuality\", \"honda\", \"host\", \"host\", \"host\", \"host\", \"host\", \"host\", \"host\", \"hp\", \"hp\", \"hp\", \"ide\", \"ide\", \"image\", \"image\", \"image\", \"image\", \"image\", \"image\", \"imake\", \"include\", \"include\", \"include\", \"include\", \"include\", \"include\", \"include\", \"information\", \"information\", \"information\", \"information\", \"information\", \"information\", \"information\", \"initiative\", \"ink\", \"insurance\", \"intellect\", \"internet\", \"internet\", \"internet\", \"internet\", \"internet\", \"internet\", \"internet\", \"ipx\", \"irq\", \"isa\", \"isa\", \"islam\", \"islam\", \"israel\", \"israel\", \"israeli\", \"israelis\", \"jesus\", \"jews\", \"jews\", \"jpeg\", \"jpl\", \"jupiter\", \"key\", \"key\", \"key\", \"key\", \"kill\", \"kill\", \"kill\", \"kill\", \"kill\", \"know\", \"know\", \"know\", \"know\", \"know\", \"know\", \"know\", \"koresh\", \"koresh\", \"laboratory\", \"laboratory\", \"laboratory\", \"laboratory\", \"laboratory\", \"launch\", \"launch\", \"law\", \"law\", \"law\", \"leafs\", \"league\", \"league\", \"lebanese\", \"lebanon\", \"library\", \"library\", \"library\", \"library\", \"library\", \"library\", \"library\", \"life\", \"life\", \"life\", \"life\", \"life\", \"life\", \"like\", \"like\", \"like\", \"like\", \"like\", \"like\", \"like\", \"line\", \"line\", \"line\", \"line\", \"line\", \"line\", \"line\", \"lines\", \"lines\", \"lines\", \"lines\", \"lines\", \"lines\", \"lines\", \"list\", \"list\", \"list\", \"list\", \"list\", \"list\", \"list\", \"look\", \"look\", \"look\", \"look\", \"look\", \"look\", \"look\", \"lord\", \"lord\", \"lunar\", \"lyme\", \"m\\\"`@(\\\"`@(\\\"`@(\\\"`@(\\\"`@(\\\"`@(\\\"`@(\\\"`@(\\\"`@(\\\"`@(\\\"`@(\\\"`@(\\\"`@(\\\"`@(\\\"`@\", \"mac\", \"mac\", \"mac\", \"magellan\", \"mail\", \"mail\", \"mail\", \"mail\", \"mail\", \"mail\", \"mail\", \"man\", \"man\", \"man\", \"man\", \"man\", \"man\", \"man\", \"marriage\", \"mars\", \"massacre\", \"mb\", \"mb\", \"mean\", \"mean\", \"mean\", \"mean\", \"mean\", \"mean\", \"mean\", \"medical\", \"medical\", \"medical\", \"medical\", \"medical\", \"medical\", \"memory\", \"memory\", \"memory\", \"memory\", \"memory\", \"memory\", \"memory\", \"menu\", \"migraine\", \"military\", \"military\", \"military\", \"military\", \"militia\", \"minnesota\", \"minority\", \"minority\", \"mission\", \"mission\", \"mission\", \"mit\", \"mit\", \"mit\", \"mit\", \"mode\", \"mode\", \"mode\", \"mode\", \"mode\", \"mode\", \"money\", \"money\", \"money\", \"money\", \"montreal\", \"moon\", \"moon\", \"moon\", \"moon\", \"moral\", \"moral\", \"motif\", \"motif\", \"motorcycle\", \"mouse\", \"mouse\", \"mouse\", \"mouse\", \"mph\", \"mr\", \"mr\", \"mr\", \"mr\", \"msg\", \"murder\", \"murder\", \"mw\", \"n3jxp\", \"nasa\", \"nasa\", \"nazi\", \"need\", \"need\", \"need\", \"need\", \"need\", \"need\", \"need\", \"new\", \"new\", \"new\", \"new\", \"new\", \"new\", \"new\", \"nhl\", \"nntp\", \"nntp\", \"nntp\", \"nntp\", \"nntp\", \"nntp\", \"nntp\", \"nsa\", \"nyi\", \"nyr\", \"observatory\", \"oil\", \"oil\", \"oname\", \"openwindows\", \"orbit\", \"orbital\", \"organization\", \"organization\", \"organization\", \"organization\", \"organization\", \"organization\", \"organization\", \"osf\", \"package\", \"package\", \"package\", \"package\", \"package\", \"package\", \"palestine\", \"palestinian\", \"patent\", \"patient\", \"patient\", \"patient\", \"payload\", \"pc\", \"pc\", \"pc\", \"pens\", \"people\", \"people\", \"people\", \"people\", \"people\", \"people\", \"people\", \"pgp\", \"philadelphia\", \"pin\", \"pin\", \"pin\", \"pin\", \"pin\", \"pitch\", \"planetary\", \"planetary\", \"play\", \"play\", \"play\", \"play\", \"player\", \"player\", \"player\", \"playoff\", \"point\", \"point\", \"point\", \"point\", \"point\", \"point\", \"point\", \"political\", \"political\", \"political\", \"political\", \"pope\", \"population\", \"population\", \"population\", \"port\", \"port\", \"port\", \"port\", \"port\", \"post\", \"post\", \"post\", \"post\", \"post\", \"post\", \"post\", \"posting\", \"posting\", \"posting\", \"posting\", \"posting\", \"posting\", \"posting\", \"president\", \"president\", \"president\", \"president\", \"printer\", \"printer\", \"printer\", \"privacy\", \"probe\", \"probe\", \"probe\", \"problem\", \"problem\", \"problem\", \"problem\", \"problem\", \"problem\", \"problem\", \"program\", \"program\", \"program\", \"program\", \"program\", \"program\", \"program\", \"project\", \"project\", \"project\", \"project\", \"project\", \"project\", \"project\", \"prong\", \"prophet\", \"propulsion\", \"pt\", \"pub\", \"pub\", \"public\", \"public\", \"public\", \"public\", \"public\", \"public\", \"public\", \"question\", \"question\", \"question\", \"question\", \"question\", \"question\", \"question\", \"quicktime\", \"ram\", \"ram\", \"rangers\", \"religion\", \"religion\", \"reply\", \"reply\", \"reply\", \"reply\", \"reply\", \"reply\", \"reply\", \"research\", \"research\", \"research\", \"research\", \"research\", \"research\", \"research\", \"revelation\", \"ride\", \"ride\", \"ride\", \"right\", \"right\", \"right\", \"right\", \"right\", \"right\", \"ripem\", \"rocket\", \"rocket\", \"rocket\", \"rocket\", \"rsa\", \"run\", \"run\", \"run\", \"run\", \"run\", \"run\", \"sabbath\", \"sale\", \"sale\", \"satellite\", \"satellite\", \"say\", \"say\", \"say\", \"say\", \"say\", \"say\", \"science\", \"science\", \"science\", \"science\", \"science\", \"science\", \"science\", \"score\", \"score\", \"screen\", \"screen\", \"screen\", \"scripture\", \"scripture\", \"scsi\", \"scsi\", \"season\", \"secure\", \"secure\", \"secure\", \"security\", \"security\", \"security\", \"send\", \"send\", \"send\", \"send\", \"send\", \"send\", \"send\", \"sensitivity\", \"sensitivity\", \"sera@zuma\", \"serdar\", \"server\", \"server\", \"server\", \"server\", \"set\", \"set\", \"set\", \"set\", \"set\", \"set\", \"set\", \"shameful\", \"shipping\", \"shuttle\", \"sin\", \"sin\", \"site\", \"site\", \"site\", \"site\", \"site\", \"site\", \"site\", \"software\", \"software\", \"software\", \"software\", \"software\", \"software\", \"software\", \"solar\", \"solar\", \"soldier\", \"soldier\", \"soldier\", \"source\", \"source\", \"source\", \"source\", \"source\", \"source\", \"source\", \"space\", \"space\", \"space\", \"space\", \"space\", \"space\", \"space\", \"spacecraft\", \"sparc\", \"sparc\", \"spirit\", \"spirit\", \"state\", \"state\", \"state\", \"state\", \"state\", \"state\", \"states\", \"states\", \"states\", \"states\", \"stephanopoulos\", \"stereo\", \"study\", \"study\", \"study\", \"study\", \"study\", \"subject\", \"subject\", \"subject\", \"subject\", \"subject\", \"subject\", \"subject\", \"sun\", \"sun\", \"sun\", \"sun\", \"sun\", \"sun\", \"sun\", \"sunos\", \"sunview\", \"svga\", \"syndrome\", \"syndrome\", \"syndrome\", \"system\", \"system\", \"system\", \"system\", \"system\", \"system\", \"system\", \"tap\", \"tap\", \"tax\", \"tax\", \"teaching\", \"team\", \"team\", \"team\", \"tell\", \"tell\", \"tell\", \"tell\", \"tell\", \"tell\", \"tell\", \"territory\", \"territory\", \"test\", \"test\", \"test\", \"test\", \"test\", \"test\", \"test\", \"thank\", \"thank\", \"thank\", \"thank\", \"thank\", \"thank\", \"thank\", \"thing\", \"thing\", \"thing\", \"thing\", \"thing\", \"thing\", \"thing\", \"think\", \"think\", \"think\", \"think\", \"think\", \"think\", \"time\", \"time\", \"time\", \"time\", \"time\", \"time\", \"time\", \"tire\", \"titan\", \"toolkit\", \"toolkit\", \"toronto\", \"toronto\", \"toronto\", \"traffic\", \"traffic\", \"troop\", \"truth\", \"truth\", \"truth\", \"truth\", \"try\", \"try\", \"try\", \"try\", \"try\", \"try\", \"try\", \"turkey\", \"turkish\", \"turks\", \"tutorial\", \"united\", \"united\", \"united\", \"united\", \"united\", \"university\", \"university\", \"university\", \"university\", \"university\", \"university\", \"university\", \"use\", \"use\", \"use\", \"use\", \"use\", \"use\", \"use\", \"user\", \"user\", \"user\", \"user\", \"user\", \"uw\", \"van\", \"van\", \"van\", \"van\", \"van\", \"venus\", \"verse\", \"version\", \"version\", \"version\", \"version\", \"version\", \"version\", \"vesa\", \"vesa\", \"vga\", \"video\", \"video\", \"video\", \"video\", \"video\", \"video\", \"village\", \"visualization\", \"vlb\", \"vram\", \"want\", \"want\", \"want\", \"want\", \"want\", \"want\", \"want\", \"war\", \"war\", \"war\", \"war\", \"war\", \"way\", \"way\", \"way\", \"way\", \"way\", \"way\", \"way\", \"weapon\", \"weapon\", \"wheel\", \"win\", \"win\", \"win\", \"win\", \"win\", \"window\", \"window\", \"window\", \"window\", \"window\", \"windows\", \"windows\", \"wings\", \"winnipeg\", \"wiretap\", \"word\", \"word\", \"word\", \"word\", \"word\", \"word\", \"word\", \"work\", \"work\", \"work\", \"work\", \"work\", \"work\", \"work\", \"world\", \"world\", \"world\", \"world\", \"world\", \"world\", \"world\", \"worship\", \"write\", \"write\", \"write\", \"write\", \"write\", \"write\", \"write\", \"x11\", \"x11\", \"xdm\", \"xmu\", \"xterm\", \"xterm\", \"xv\", \"xview\", \"xview\", \"year\", \"year\", \"year\", \"year\", \"year\", \"year\", \"zoology\"]}, \"R\": 30, \"lambda.step\": 0.01, \"plot.opts\": {\"xlab\": \"PC1\", \"ylab\": \"PC2\"}, \"topic.order\": [1, 2, 3, 4, 5, 6, 7]};\n",
       "\n",
       "function LDAvis_load_lib(url, callback){\n",
       "  var s = document.createElement('script');\n",
       "  s.src = url;\n",
       "  s.async = true;\n",
       "  s.onreadystatechange = s.onload = callback;\n",
       "  s.onerror = function(){console.warn(\"failed to load library \" + url);};\n",
       "  document.getElementsByTagName(\"head\")[0].appendChild(s);\n",
       "}\n",
       "\n",
       "if(typeof(LDAvis) !== \"undefined\"){\n",
       "   // already loaded: just create the visualization\n",
       "   !function(LDAvis){\n",
       "       new LDAvis(\"#\" + \"ldavis_el108601406406198510882309575884\", ldavis_el108601406406198510882309575884_data);\n",
       "   }(LDAvis);\n",
       "}else if(typeof define === \"function\" && define.amd){\n",
       "   // require.js is available: use it to load d3/LDAvis\n",
       "   require.config({paths: {d3: \"https://cdnjs.cloudflare.com/ajax/libs/d3/3.5.5/d3.min\"}});\n",
       "   require([\"d3\"], function(d3){\n",
       "      window.d3 = d3;\n",
       "      LDAvis_load_lib(\"https://cdn.rawgit.com/bmabey/pyLDAvis/files/ldavis.v1.0.0.js\", function(){\n",
       "        new LDAvis(\"#\" + \"ldavis_el108601406406198510882309575884\", ldavis_el108601406406198510882309575884_data);\n",
       "      });\n",
       "    });\n",
       "}else{\n",
       "    // require.js not available: dynamically load d3 & LDAvis\n",
       "    LDAvis_load_lib(\"https://cdnjs.cloudflare.com/ajax/libs/d3/3.5.5/d3.min.js\", function(){\n",
       "         LDAvis_load_lib(\"https://cdn.rawgit.com/bmabey/pyLDAvis/files/ldavis.v1.0.0.js\", function(){\n",
       "                 new LDAvis(\"#\" + \"ldavis_el108601406406198510882309575884\", ldavis_el108601406406198510882309575884_data);\n",
       "            })\n",
       "         });\n",
       "}\n",
       "</script>"
      ],
      "text/plain": [
       "PreparedData(topic_coordinates=              x         y  topics  cluster       Freq\n",
       "topic                                                \n",
       "0      0.101111  0.238302       1        1   5.027254\n",
       "1      0.090666 -0.144402       2        1  12.397863\n",
       "2     -0.053377 -0.082069       3        1  22.654196\n",
       "3     -0.165837  0.004580       4        1  17.306297\n",
       "4      0.263191 -0.037857       5        1   6.963399\n",
       "5     -0.095274 -0.036443       6        1  21.445147\n",
       "6     -0.140480  0.057888       7        1  14.205853, topic_info=            Term         Freq        Total Category  logprob  loglift\n",
       "696          god  3245.000000  3245.000000  Default  30.0000  30.0000\n",
       "407         file  2783.000000  2783.000000  Default  29.0000  29.0000\n",
       "976        space  1511.000000  1511.000000  Default  28.0000  28.0000\n",
       "165       people  5807.000000  5807.000000  Default  27.0000  27.0000\n",
       "2235         gun  1628.000000  1628.000000  Default  26.0000  26.0000\n",
       "...          ...          ...          ...      ...      ...      ...\n",
       "191         time   556.055664  4770.944336   Topic7  -6.0198  -0.1979\n",
       "153         line   570.276794  7842.685547   Topic7  -5.9946  -0.6697\n",
       "22          know   559.302246  6383.766113   Topic7  -6.0140  -0.4833\n",
       "47    university   546.088806  5486.758789   Topic7  -6.0379  -0.3558\n",
       "419        think   521.945251  5710.223145   Topic7  -6.0831  -0.4409\n",
       "\n",
       "[538 rows x 6 columns], token_table=        Topic      Freq     Term\n",
       "term                            \n",
       "109608      5  0.992309      --+\n",
       "19003       5  0.989794     ---+\n",
       "18852       2  0.039905     /pub\n",
       "18852       5  0.838000     /pub\n",
       "18852       6  0.119714     /pub\n",
       "...       ...       ...      ...\n",
       "49          3  0.438424     year\n",
       "49          4  0.092160     year\n",
       "49          6  0.201100     year\n",
       "49          7  0.177394     year\n",
       "5932        1  0.985458  zoology\n",
       "\n",
       "[1274 rows x 3 columns], R=30, lambda_step=0.01, plot_opts={'xlab': 'PC1', 'ylab': 'PC2'}, topic_order=[1, 2, 3, 4, 5, 6, 7])"
      ]
     },
     "execution_count": 211,
     "metadata": {},
     "output_type": "execute_result"
    }
   ],
   "source": [
    "### YOUR ANSWER HERE\n",
    "pyLDAvis.enable_notebook()\n",
    "vis = pyLDAvis.gensim.prepare(lda, doc_term_matrix, dictionary, sort_topics=False)\n",
    "vis"
   ]
  },
  {
   "cell_type": "markdown",
   "metadata": {},
   "source": [
    "\n",
    "![](plots.png)"
   ]
  },
  {
   "cell_type": "code",
   "execution_count": 259,
   "metadata": {},
   "outputs": [
    {
     "data": {
      "text/plain": [
       "{0: 'Space technology',\n",
       " 1: 'Computers',\n",
       " 2: 'Sports',\n",
       " 3: 'Religion',\n",
       " 4: 'Computer peripherals',\n",
       " 5: 'Science and Technology',\n",
       " 6: 'Politics'}"
      ]
     },
     "execution_count": 259,
     "metadata": {},
     "output_type": "execute_result"
    }
   ],
   "source": [
    "### YOUR ANSWER HERE\n",
    "topic_labels = {\n",
    "    0:'Space technology',\n",
    "    1:'Computers',\n",
    "    2:'Sports',\n",
    "    3:'Religion',\n",
    "    4:'Computer peripherals',\n",
    "    5:'Science and Technology',\n",
    "    6: 'Politics'\n",
    "}\n",
    "topic_labels"
   ]
  },
  {
   "cell_type": "markdown",
   "metadata": {},
   "source": [
    "###  Test on unseen documents \n",
    "\n",
    "In this particular data, we already know the \"topics\" (labels) for each article. You will examine to what extent the topics identified by the LDA model match with the actual labels of unseen documents. "
   ]
  },
  {
   "cell_type": "code",
   "execution_count": null,
   "metadata": {},
   "outputs": [],
   "source": [
    "### BEGIN STARTER CODE\n",
    "data = {'text':[], 'target':[]}\n",
    "data['text'] = newsgroups_test.data\n",
    "data['target_name'] = [newsgroups_test.target_names[target] for target in newsgroups_test.target]\n",
    "data['target'] = [target for target in newsgroups_test.target]\n",
    "test_df = pd.DataFrame(data)\n",
    "sample_test_df = test_df.sample(100)\n",
    "sample_test_df\n",
    "### END STARTER CODE\n",
    "\n",
    "pandarallel.initialize()\n",
    "s = time.time()\n",
    "sample_test_df['pp_text'] = sample_test_df.text.parallel_apply(preprocess)\n",
    "t = time.time()-s\n",
    "print(\"time taken is\",t,'seconds')"
   ]
  },
  {
   "cell_type": "code",
   "execution_count": 221,
   "metadata": {},
   "outputs": [],
   "source": [
    "corpus = [text.split() for text in sample_test_df.pp_text.values]\n",
    "doc_term_matrix = [dictionary.doc2bow(doc) for doc in corpus]"
   ]
  },
  {
   "cell_type": "code",
   "execution_count": 236,
   "metadata": {},
   "outputs": [
    {
     "data": {
      "text/plain": [
       "[(1, 0.14103273),\n",
       " (3, 0.40715578),\n",
       " (4, 0.032082643),\n",
       " (5, 0.31440067),\n",
       " (6, 0.099440254)]"
      ]
     },
     "execution_count": 236,
     "metadata": {},
     "output_type": "execute_result"
    }
   ],
   "source": [
    "p = lda[doc_term_matrix[1]]\n",
    "p"
   ]
  },
  {
   "cell_type": "code",
   "execution_count": 235,
   "metadata": {},
   "outputs": [
    {
     "data": {
      "text/plain": [
       "(3, 0.4071601)"
      ]
     },
     "execution_count": 235,
     "metadata": {},
     "output_type": "execute_result"
    }
   ],
   "source": [
    "max(p,key=lambda item:item[1])"
   ]
  },
  {
   "cell_type": "code",
   "execution_count": 260,
   "metadata": {},
   "outputs": [],
   "source": [
    "\n",
    "def get_most_prob_topic(unseen_document, model = lda):\n",
    "    \"\"\"\n",
    "    Given an unseen_document, and a trained LDA model, this function\n",
    "    finds the most likely topic (topic with the highest probability) from the \n",
    "    topic distribution of the unseen document and returns the best topic with \n",
    "    its probability. . \n",
    "    \n",
    "    Parameters\n",
    "    ------------\n",
    "    unseen_document : (str) \n",
    "        the document to be labeled with a topic\n",
    "    model : (gensim ldamodel) \n",
    "        the trained LDA model\n",
    "    \n",
    "    Returns: \n",
    "    -------------\n",
    "        (str) a string of the form \n",
    "        `most likely topic label:probability of that label` \n",
    "    \n",
    "    Examples:\n",
    "    ----------\n",
    "    >> get_most_prob_topic(\"The research uses an HMM for discovering gene sequence.\", \n",
    "                            model = lda)\n",
    "    Science and Technology:0.435\n",
    "    \"\"\"   \n",
    "    doc = preprocess(unseen_document)\n",
    "    bow_vector = dictionary.doc2bow(doc.split())\n",
    "    topics = model[bow_vector]\n",
    "    max_topic = max(topics,key=lambda item:item[1])\n",
    "    topic_prob = topic_labels[max_topic[0]]+\":\"+str(max_topic[1])\n",
    "    return topic_prob\n",
    "  "
   ]
  },
  {
   "cell_type": "code",
   "execution_count": null,
   "metadata": {},
   "outputs": [],
   "source": []
  },
  {
   "cell_type": "code",
   "execution_count": 265,
   "metadata": {},
   "outputs": [],
   "source": [
    "sample_test_df['predicted'] = sample_test_df.text.apply(get_most_prob_topic)"
   ]
  },
  {
   "cell_type": "code",
   "execution_count": 269,
   "metadata": {},
   "outputs": [
    {
     "data": {
      "text/html": [
       "<div>\n",
       "<style scoped>\n",
       "    .dataframe tbody tr th:only-of-type {\n",
       "        vertical-align: middle;\n",
       "    }\n",
       "\n",
       "    .dataframe tbody tr th {\n",
       "        vertical-align: top;\n",
       "    }\n",
       "\n",
       "    .dataframe thead th {\n",
       "        text-align: right;\n",
       "    }\n",
       "</style>\n",
       "<table border=\"1\" class=\"dataframe\">\n",
       "  <thead>\n",
       "    <tr style=\"text-align: right;\">\n",
       "      <th></th>\n",
       "      <th>target_name</th>\n",
       "      <th>predicted</th>\n",
       "    </tr>\n",
       "  </thead>\n",
       "  <tbody>\n",
       "    <tr>\n",
       "      <th>3835</th>\n",
       "      <td>rec.autos</td>\n",
       "      <td>Science and Technology:0.6712201</td>\n",
       "    </tr>\n",
       "    <tr>\n",
       "      <th>1393</th>\n",
       "      <td>alt.atheism</td>\n",
       "      <td>Religion:0.40715802</td>\n",
       "    </tr>\n",
       "    <tr>\n",
       "      <th>2553</th>\n",
       "      <td>comp.graphics</td>\n",
       "      <td>Sports:0.40570045</td>\n",
       "    </tr>\n",
       "    <tr>\n",
       "      <th>4854</th>\n",
       "      <td>sci.crypt</td>\n",
       "      <td>Science and Technology:0.9308202</td>\n",
       "    </tr>\n",
       "    <tr>\n",
       "      <th>2202</th>\n",
       "      <td>talk.politics.misc</td>\n",
       "      <td>Politics:0.33784994</td>\n",
       "    </tr>\n",
       "    <tr>\n",
       "      <th>5997</th>\n",
       "      <td>sci.crypt</td>\n",
       "      <td>Science and Technology:0.7994448</td>\n",
       "    </tr>\n",
       "    <tr>\n",
       "      <th>158</th>\n",
       "      <td>rec.sport.hockey</td>\n",
       "      <td>Sports:0.978897</td>\n",
       "    </tr>\n",
       "    <tr>\n",
       "      <th>629</th>\n",
       "      <td>talk.religion.misc</td>\n",
       "      <td>Religion:0.49454913</td>\n",
       "    </tr>\n",
       "    <tr>\n",
       "      <th>1284</th>\n",
       "      <td>comp.sys.mac.hardware</td>\n",
       "      <td>Sports:0.87936836</td>\n",
       "    </tr>\n",
       "    <tr>\n",
       "      <th>7526</th>\n",
       "      <td>rec.autos</td>\n",
       "      <td>Sports:0.46092635</td>\n",
       "    </tr>\n",
       "    <tr>\n",
       "      <th>2624</th>\n",
       "      <td>sci.crypt</td>\n",
       "      <td>Science and Technology:0.7050414</td>\n",
       "    </tr>\n",
       "    <tr>\n",
       "      <th>795</th>\n",
       "      <td>rec.sport.baseball</td>\n",
       "      <td>Sports:0.871278</td>\n",
       "    </tr>\n",
       "    <tr>\n",
       "      <th>6677</th>\n",
       "      <td>comp.sys.mac.hardware</td>\n",
       "      <td>Computers:0.49268925</td>\n",
       "    </tr>\n",
       "    <tr>\n",
       "      <th>2513</th>\n",
       "      <td>comp.windows.x</td>\n",
       "      <td>Sports:0.43274093</td>\n",
       "    </tr>\n",
       "    <tr>\n",
       "      <th>4339</th>\n",
       "      <td>rec.sport.baseball</td>\n",
       "      <td>Sports:0.935586</td>\n",
       "    </tr>\n",
       "    <tr>\n",
       "      <th>3620</th>\n",
       "      <td>sci.electronics</td>\n",
       "      <td>Sports:0.4200487</td>\n",
       "    </tr>\n",
       "    <tr>\n",
       "      <th>1467</th>\n",
       "      <td>talk.politics.misc</td>\n",
       "      <td>Science and Technology:0.5385646</td>\n",
       "    </tr>\n",
       "    <tr>\n",
       "      <th>1837</th>\n",
       "      <td>talk.religion.misc</td>\n",
       "      <td>Religion:0.9879242</td>\n",
       "    </tr>\n",
       "    <tr>\n",
       "      <th>5908</th>\n",
       "      <td>soc.religion.christian</td>\n",
       "      <td>Religion:0.70941573</td>\n",
       "    </tr>\n",
       "    <tr>\n",
       "      <th>983</th>\n",
       "      <td>rec.sport.hockey</td>\n",
       "      <td>Sports:0.91674167</td>\n",
       "    </tr>\n",
       "  </tbody>\n",
       "</table>\n",
       "</div>"
      ],
      "text/plain": [
       "                 target_name                         predicted\n",
       "3835               rec.autos  Science and Technology:0.6712201\n",
       "1393             alt.atheism               Religion:0.40715802\n",
       "2553           comp.graphics                 Sports:0.40570045\n",
       "4854               sci.crypt  Science and Technology:0.9308202\n",
       "2202      talk.politics.misc               Politics:0.33784994\n",
       "5997               sci.crypt  Science and Technology:0.7994448\n",
       "158         rec.sport.hockey                   Sports:0.978897\n",
       "629       talk.religion.misc               Religion:0.49454913\n",
       "1284   comp.sys.mac.hardware                 Sports:0.87936836\n",
       "7526               rec.autos                 Sports:0.46092635\n",
       "2624               sci.crypt  Science and Technology:0.7050414\n",
       "795       rec.sport.baseball                   Sports:0.871278\n",
       "6677   comp.sys.mac.hardware              Computers:0.49268925\n",
       "2513          comp.windows.x                 Sports:0.43274093\n",
       "4339      rec.sport.baseball                   Sports:0.935586\n",
       "3620         sci.electronics                  Sports:0.4200487\n",
       "1467      talk.politics.misc  Science and Technology:0.5385646\n",
       "1837      talk.religion.misc                Religion:0.9879242\n",
       "5908  soc.religion.christian               Religion:0.70941573\n",
       "983         rec.sport.hockey                 Sports:0.91674167"
      ]
     },
     "execution_count": 269,
     "metadata": {},
     "output_type": "execute_result"
    }
   ],
   "source": [
    "### YOUR ANSWER HERE\n",
    "sample_test_df[['target_name','predicted']].head(20)"
   ]
  },
  {
   "cell_type": "markdown",
   "metadata": {},
   "source": [
    "\n",
    "\n",
    "* The LDA assignment makes sense but it also gives many wrong assignments.\n",
    "* This can be improved by improving the preprocessing of the text"
   ]
  },
  {
   "cell_type": "code",
   "execution_count": null,
   "metadata": {},
   "outputs": [],
   "source": []
  }
 ],
 "metadata": {
  "kernelspec": {
   "display_name": "Python 3",
   "language": "python",
   "name": "python3"
  },
  "language_info": {
   "codemirror_mode": {
    "name": "ipython",
    "version": 3
   },
   "file_extension": ".py",
   "mimetype": "text/x-python",
   "name": "python",
   "nbconvert_exporter": "python",
   "pygments_lexer": "ipython3",
   "version": "3.7.6"
  }
 },
 "nbformat": 4,
 "nbformat_minor": 4
}
